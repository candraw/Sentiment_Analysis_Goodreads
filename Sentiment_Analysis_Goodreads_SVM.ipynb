{
  "nbformat": 4,
  "nbformat_minor": 0,
  "metadata": {
    "colab": {
      "provenance": []
    },
    "kernelspec": {
      "name": "python3",
      "display_name": "Python 3"
    },
    "language_info": {
      "name": "python"
    }
  },
  "cells": [
    {
      "cell_type": "code",
      "execution_count": null,
      "metadata": {
        "id": "TLausgA5d6AM"
      },
      "outputs": [],
      "source": [
        "from google.colab import drive\n",
        "drive.mount ('/content/drive')"
      ]
    },
    {
      "cell_type": "code",
      "source": [
        "%cd '/content/drive/MyDrive/DIV TEKNIK INFORMATIKA/Pemrograman Sistem Cerdas - Bu Intan/Projek Sentiment Analysis'"
      ],
      "metadata": {
        "id": "8q-NuwEHeKKM"
      },
      "execution_count": null,
      "outputs": []
    },
    {
      "cell_type": "code",
      "source": [
        "!pip install dataframe-image"
      ],
      "metadata": {
        "id": "kCYR_EVDeX8g"
      },
      "execution_count": null,
      "outputs": []
    },
    {
      "cell_type": "code",
      "source": [
        "!pip install varname"
      ],
      "metadata": {
        "id": "eHCgzA_NefGn"
      },
      "execution_count": null,
      "outputs": []
    },
    {
      "cell_type": "code",
      "source": [
        "!pip install keras-metrics"
      ],
      "metadata": {
        "id": "je9pX5yIeogZ"
      },
      "execution_count": null,
      "outputs": []
    },
    {
      "cell_type": "code",
      "source": [
        "!pip install h5py"
      ],
      "metadata": {
        "id": "ZRb7g_G5eqg9"
      },
      "execution_count": null,
      "outputs": []
    },
    {
      "cell_type": "code",
      "source": [
        "!pip install sastrawi"
      ],
      "metadata": {
        "id": "3atp0lntetbL"
      },
      "execution_count": null,
      "outputs": []
    },
    {
      "cell_type": "code",
      "source": [
        "import nltk\n",
        "import pandas as pd\n",
        "import re\n",
        "import tensorflow as tf\n",
        "import time\n",
        "import multiprocessing\n",
        "import io\n",
        "import gensim\n",
        "import numpy as np\n",
        "import matplotlib.pyplot as plt\n",
        "import keras_metrics as km\n",
        "import pickle\n",
        "import keras\n",
        "\n",
        "from tensorflow import keras\n",
        "from keras.models import Sequential\n",
        "from tensorflow.keras.optimizers import Adam\n",
        "#from keras.optimizers import Adam\n",
        "from keras.callbacks import ModelCheckpoint\n",
        "from keras.preprocessing.text import Tokenizer\n",
        "from keras.models import Sequential\n",
        "from keras.layers import Embedding\n",
        "from keras.layers import Dense, Activation, Embedding, LSTM, Bidirectional, Dropout, GRU\n",
        "from keras import regularizers\n",
        "from tensorflow.keras.utils import to_categorical\n",
        "from keras.models import load_model\n",
        "from sklearn.naive_bayes import MultinomialNB\n",
        "from sklearn.feature_extraction.text import TfidfVectorizer\n",
        "from sklearn.model_selection import train_test_split\n",
        "from sklearn.model_selection import KFold\n",
        "from sklearn import metrics\n",
        "from nltk.tokenize import TweetTokenizer\n",
        "from collections import defaultdict\n",
        "from datetime import timedelta\n",
        "from gensim.models import word2vec\n",
        "from sklearn.metrics import classification_report\n",
        "from sklearn.metrics import f1_score, precision_score, recall_score, confusion_matrix, accuracy_score\n",
        "from sklearn.feature_extraction.text import CountVectorizer\n",
        "from varname import nameof\n",
        "\n",
        "nltk.download('punkt')\n",
        "from nltk.tokenize import word_tokenize\n",
        "\n",
        "from Sastrawi.Stemmer.StemmerFactory import StemmerFactory"
      ],
      "metadata": {
        "colab": {
          "base_uri": "https://localhost:8080/"
        },
        "id": "gOL0tjnie05p",
        "outputId": "6af744ae-8f00-4506-8a3a-e8ce2ad03e7a"
      },
      "execution_count": 8,
      "outputs": [
        {
          "output_type": "stream",
          "name": "stderr",
          "text": [
            "[nltk_data] Downloading package punkt to /root/nltk_data...\n",
            "[nltk_data]   Unzipping tokenizers/punkt.zip.\n"
          ]
        }
      ]
    },
    {
      "cell_type": "code",
      "source": [
        "path = \"review.csv\"\n",
        "ds = pd.read_csv(path, sep=\",\", header=[0], encoding=\"UTF-8\")\n",
        "ds.head()"
      ],
      "metadata": {
        "id": "DUFO2VsAe9eY"
      },
      "execution_count": null,
      "outputs": []
    },
    {
      "cell_type": "code",
      "source": [
        "dsCont = ds['content']\n",
        "dsCont"
      ],
      "metadata": {
        "id": "MyPB53cOfFTg"
      },
      "execution_count": null,
      "outputs": []
    },
    {
      "cell_type": "code",
      "source": [
        "dsCf = dsCont.str.lower()\n",
        "dsCf.head()"
      ],
      "metadata": {
        "id": "-sEo-R-IfNAm"
      },
      "execution_count": null,
      "outputs": []
    },
    {
      "cell_type": "code",
      "source": [
        "#Filtering\n",
        "filtering_url = [re.sub(r'''(?i)\\b((?:https?://|www\\d{0,3}[.]|[a-z0-9.\\-]+[.][a-z]{2,4}/)(?:[^\\s()<>]+|\n",
        "\\(([^\\s()<>]+|(\\([^\\s()<>]+\\)))*\\))+(?:\\(([^\\s()<>]+|(\\([^\\s()<>]+\\)))*\\)|[^\\s`!()\\[\\]{};:'\".,<>?«»“”‘’]))\\n''',\n",
        " \" \", content) for content in dsCf]\n",
        "filtering_cont = [re.sub(r'\\(cont\\)',\" \", content)for content in filtering_url]\n",
        "filtering_punctuation = [re.sub(r'[!\"”#$%&’()*+,-./:;<=>?@[\\]^_`{|}~]', ' ', content) for content in filtering_cont]\n",
        "filtering_tagger = [re.sub(r'#([^\\s]+)', '', content) for content in filtering_punctuation]\n",
        "filtering_numeric = [re.sub(r'\\d+', ' ', content) for content in filtering_tagger]\n",
        "dsFilter = pd.Series(filtering_numeric)\n",
        "dsFilter.head()"
      ],
      "metadata": {
        "id": "1UD8l8lOfS4b"
      },
      "execution_count": null,
      "outputs": []
    },
    {
      "cell_type": "code",
      "source": [
        "#Tokenization\n",
        "dsToken = [word_tokenize(line) for line in dsFilter]\n",
        "print(dsToken)"
      ],
      "metadata": {
        "id": "VXzpK4G2ffTG"
      },
      "execution_count": null,
      "outputs": []
    },
    {
      "cell_type": "code",
      "source": [
        "from Sastrawi.StopWordRemover.StopWordRemoverFactory import StopWordRemoverFactory"
      ],
      "metadata": {
        "id": "tBmYglZRfp0c"
      },
      "execution_count": 14,
      "outputs": []
    },
    {
      "cell_type": "code",
      "source": [
        "factory = StopWordRemoverFactory()\n",
        "ind_stopword = factory.get_stop_words()\n",
        "\n",
        "def stopword(line):\n",
        "    temp = list()\n",
        "    for word in line:\n",
        "       if (word not in ind_stopword):\n",
        "          if(len(word)>3):\n",
        "              temp.append(word)\n",
        "    return temp\n",
        "\n",
        "dsPenting = [stopword (line) for line in dsToken]\n",
        "print(dsPenting)"
      ],
      "metadata": {
        "colab": {
          "base_uri": "https://localhost:8080/"
        },
        "id": "j61bkBzMfsAN",
        "outputId": "ee4b23db-3bc7-4119-f8c7-a539edeb2719"
      },
      "execution_count": 15,
      "outputs": [
        {
          "output_type": "stream",
          "name": "stdout",
          "text": [
            "[['error'], ['tulisan', 'page', 'unavailable', 'mengganti', 'profil', 'refresh', 'akun', 'diweb', 'bintang', 'satu'], ['usernya', 'banyak', 'toxic'], ['membuka', 'aplikasinya', 'aplikasinya', 'selalu', 'keluar', 'sendiri', 'malah', 'selalu', 'keluar', 'sedang', 'mencari', 'buku'], ['jujur', 'aplikasi', 'ribet', 'banget', 'sepertinya', 'bukan', 'aplikasi', 'membaca', 'delete', 'this', 'aplication'], ['seringkali', 'buku', 'dibaca'], ['punyaku', 'beda', 'lainn', 'padahal', 'punyaku', 'bukan', 'pick', '\\u2060｡\\u2060•́\\u2060︿\\u2060•̀\\u2060｡\\u2060'], ['aplikasi', 'praktis'], ['aplikasi'], ['kirain', 'kumpulan', 'buku', 'sini', 'ternyata', 'cuma', 'judul'], ['banyak', 'kasih', 'spoiler'], ['community', 'reviews'], ['nyesel', 'donlod', 'buka', 'cuman', 'judul', 'bukak', 'baca'], ['cant', 'continue', 'login', 'with', 'facebook', 'account', 'when', 'want', 'login', 'email', 'also'], ['digunain', 'cuma', 'reload', 'mulu', 'padahal', 'udah', 'update', 'versi', 'terbaru', 'signal', 'bagus'], ['hiiit', 'force', 'close'], ['jelek', 'baca'], ['masuk', 'mental', 'mental', 'mulu😪'], ['cara', 'bacanya', 'gimana', 'daritadi', 'ngotak', 'ngatik', 'mulu'], ['goodreads', 'does', 'have', 'look', 'like', 'version', 'though', 'version', 'much', 'neater', 'aesthetic', 'fresh', 'because', 'updated', 'apply', 'here'], ['bingung'], ['masuk', 'pake', 'akun', 'bantu'], ['bangsat', 'dikira', 'buat', 'baca', 'tolol'], ['baca'], ['sumpah'], ['gabisa', 'daftar', 'gaguna'], ['alias', 'bohong'], ['berguna', 'install'], ['gimana', 'baca', 'bukunya'], ['kasih', 'bintang', 'saku', 'karna', 'gabisa', 'daftar', 'dikasih', 'passwordnya', 'udah', 'bener', 'salah', 'lanjut', 'lewat', 'facebook', 'perbaiki'], ['annjir', 'susah', 'masuk', 'akun', 'sekarang'], ['bacanya', 'sini'], ['login'], ['aplikasi', 'jelas'], ['cara', 'bacanya'], ['login'], ['ribet'], ['njir'], ['buat', 'berfikir', 'baca', 'buku', 'novel', 'jangan', 'downlod', 'bkan', 'buat', 'baca', 'buku'], ['salah', 'copot', 'sorry', 'dikira', 'buat', 'baca', 'pake', 'aplikasi', 'aplikasi', 'apaan', 'gunanya', 'buat'], ['perbaiki', 'sangat', 'susah', 'login', 'kezel'], ['udah', 'lama', 'pake', 'aplikasi', 'suka', 'buat', 'cari', 'rating', 'update', 'progres', 'baca', 'masa', 'buka', 'buku', 'udah', 'dibaca', 'reading', 'challenge', 'tiba', 'tiba', 'keluar', 'sendiri', 'dicoba', 'hapus', 'cache', 'tetep', 'keluar', 'aplikasi'], ['bad👎'], ['baca', 'bukunya', 'cuman', 'lihat', 'gambarnya', 'doang', 'wakau', 'punya', 'comicnya'], ['maaf', 'sebelumnya', 'knapa', 'login', 'kata', 'terhubung', 'internet', 'buka', 'aplikasi', 'berhubungan', 'internet', 'maksimal', 'mohon', 'tindak', 'lanjuti'], ['kalau', 'kasih', 'bintang', 'soalnya', 'enak', 'bgttt', 'bikin', 'susah', 'cari', 'buku', 'puyeng', 'buat', 'bacanya', 'liat', 'youtube', 'ngebantui', 'subtitlenya', 'nyesel', 'minta', 'lebih', 'ngertiin', 'memakainya', 'soalnya', 'susah', 'bingung', 'dibaca', 'dijadikan', 'lebih', 'mudah', 'dipake', 'bukan', 'ngerasain', 'orang', 'rasnya', 'terima', 'kasih🙏'], ['really', 'really'], [], ['aplikasi'], ['nipu'], ['gimana', 'cara', 'bacanya', 'sulit', 'uinstal', 'dsar', 'kontol'], ['bagaimana', 'cara', 'membuka', 'membacanya'], ['sulit'], ['kasih', 'ulasan', 'dulu', 'cara', 'baca', 'bukunya', 'gimana', 'kebuka'], ['bagussss'], ['jelek', 'nyambung'], ['bagaimana', 'membaca', 'mohon', 'bantuannya'], ['ngentot', 'aplikasi', 'vuman', 'buat', 'liat', 'review', 'doang'], ['kira', 'membaca', 'melihat', 'google', 'baca', 'gratis', 'merekomendasikan'], ['ngerti', 'serch', 'dibuka'], ['buat', 'login'], ['entahlah'], ['love', 'this', 'apps', 'because', 'helps', 'track', 'reading', 'progress', 'barcode', 'scanner', 'working', 'difficulties', 'switching', 'another', 'version', 'book', 'without', 'scanner'], ['jelas'], ['gajelas'], ['love', 'this', 'scanner', 'working'], ['kalau', 'bukunya', 'gimna'], ['sampah', 'udah', 'ngabisin', 'banyak', 'quota', 'gabisa', 'dibaca', 'bukunya'], ['lama', 'banget', 'download'], ['jelek', 'sangat', 'bacaanya', 'palsu'], ['penipu', 'nggk'], ['dear', 'goodreads', 'bagaimana', 'cara', 'membacanya', 'pilihan', 'langsung', 'keluar', 'teks', 'bacaan', 'bukunya'], ['does', 'book', 'scanner', 'work'], ['sukaaa'], ['gimana', 'cara', 'baca', 'bukunya', 'mohon', 'diberi', 'panduan'], ['kontol'], ['kontol'], ['passwordnya', 'diterima'], ['nyesel', 'download'], ['read', 'book'], ['kaya', 'bikin', 'kesel', 'download'], ['ribet'], ['ribet'], ['cara', 'bacanya', 'gajelas'], ['gimana', 'cara', 'membacanya', 'ribet', 'yaaa', 'huuufffft'], ['sebelllll'], ['ngerti', 'cara', 'memnggunakan', 'muater', 'muter', 'cari', 'judul', 'buku', 'kebuka', 'hnya', 'rfernsi', 'gimana', 'baca', 'buku'], ['mengerti', 'gunanya', 'aplikasi', 'cara', 'membaca', 'buku', 'aplikasi', 'muter', 'muter', 'tadi', 'menunya'], ['gabisa', 'baca'], ['susah', 'login', 'malah', 'dibaca', 'kecewa☹️'], ['kasih', 'cara', 'baca', 'buku', 'aplikasi', 'gimana'], ['cara', 'mbaca', 'pakek', 'aplikasi', 'gimana'], ['cuman', 'buat', 'rekomendasi', 'buku', 'doang'], ['cara', 'login', 'gimana', 'anzeng'], ['thought', 'this', 'application', 'read'], ['entah', 'gmna', 'cara', 'bacanya', 'membingungkan'], ['login'], ['know', 'this', 'lol😆😆'], ['login', 'error', 'amazon', 'gmail', 'errorrrrrrr'], ['aplikasi', 'jelas', 'dibaca', 'bukunya'], ['buruk👎'], ['aplikasi', 'membuang', 'waktu', 'dowload', 'tetap', 'infb', 'salah', 'salah', 'mulu', 'katanya', 'pasword', 'email', 'nyambung', 'rugi', 'dowload'], ['aplikasi', 'juancok'], ['gerti', 'petunjuk'], ['hate'], ['cara', 'bacanya', 'gimana'], ['bantu', 'bagaimana', 'cara', 'baca', 'buku', 'youtube', 'tutorial'], ['selalu', 'berhenti', 'mohon', 'penjelasan'], ['jadi', 'biar', 'baca', 'gimana', 'download', 'alplikasi', 'gitu', 'biar', 'baca', 'komen', 'tmpat', 'baca', 'gratis', 'gimn', 'biar', 'bacanya'], ['aplikasi', 'jelek'], ['jelek'], ['gimana', 'cara', 'baca', 'bukunya'], ['gimana', 'cara', 'membacanya'], ['aplikasi', 'mana', 'didownload', 'dibaca', 'dasar', 'jelas'], ['bagaimana', 'cara', 'masuk', 'selalu', 'email', 'salah'], ['kecewa', 'tertipu😝'], ['aplikasi', 'kimak', 'ngapain²', 'pun😈😈', 'aplikasi', 'otak'], ['aplikasi', 'bagus', 'banget', 'kayak', 'taik'], ['apaan', 'novelnya', 'dibaca', 'menyesal', 'downlod', 'ini😤😡'], ['baca', 'nyesal', 'download', 'hapus', 'jelek'], ['macam', 'anjing', 'masuk'], ['apaan', 'anjg'], ['free', 'read', 'book', 'deleted'], ['cape', 'aing', 'masuk', 'masuk', 'capeeeeee'], ['baik', 'aplikasi', 'sign'], ['cara', 'bacanya', 'gimana', 'ribet'], ['akmj'], ['cant', 'login'], ['aplikasi', 'bangsat', 'mulu'], ['login', 'pake', 'banyak', 'polah', 'sederhana', 'usah', 'bikin', 'repot', 'download'], ['aplikasi', 'jelek', 'entah', 'gimna', 'cara', 'bacanya'], ['mengerti', 'cara', 'membacanya', 'beri', 'tahu', 'cara', 'membacanya', 'memperbaiki', 'rating', 'menjadi', 'bintang', 'terima', 'kasih'], ['login'], ['cara', 'membacanya'], ['know', 'used', 'this'], ['aplikasi', 'abisin', 'kuota', 'masuk', 'email', 'nyesel', 'download'], ['aplikasi', 'ngabisin', 'waktu'], ['think', 'this', 'read', 'book', 'this', 'sell', 'book'], ['anjirrr'], ['digunakan', 'aplikasi', 'bacaan'], ['beli', 'buku', 'amazon'], ['cara', 'bacanya', 'gimana'], ['cara', 'bacanya', 'gimana'], ['baca', 'buku', 'bohongg', 'senyel', 'download'], ['bertele', 'tele'], ['lengkap', 'novelnya'], ['aplikasi', 'sampah'], ['cara', 'bacanya', 'gimna', 'jelasin'], ['download', 'msuk', 'trnyata', 'mbingungkan', 'aktif', 'member', 'msih', 'baca', 'aplikasi', 'buang', 'kuota', 'nich', 'capek', 'ngeseliiiiiiinnnnnnnn'], ['read', 'this', 'book', 'read', 'miko', 'cant'], ['suka', 'aplikasi', 'karna', 'penggemar', 'fanfaction', 'prillvers'], ['aplikasi', 'gaje'], ['this', 'cant', 'read', 'book', 'there', 'hate', 'this', 'much'], ['susah', 'buat', 'baca', 'bukunya', 'jelassss'], ['susah', 'buat', 'daftarnya', 'ngga'], ['ngga', 'ngerti'], ['scan', 'book'], ['user', 'usernya', 'selalu', 'menggunakan', 'bahasa', 'kasar', 'says', 'jadi', 'nyaman'], ['dibuka'], ['gajelas', 'anjng', 'cara', 'bacanya'], ['caranya', 'nyed'], ['baru', 'sedikt', 'kesulitan'], ['kirain', 'bukunya', 'gratis', 'ternyata', 'beli'], ['where', 'information', 'about', 'genre', 'award'], ['aplikasi', 'jelas'], ['gimna', 'cara', 'pakenya', 'bikin', 'bingung'], ['damn'], ['step', 'step', 'terlalu', 'susah', 'muter', 'muter', 'selalu', 'kosong', 'tengah', 'entah', 'memang', 'aplikasinya', 'kurang'], ['bagaimana', 'cara', 'membaca', 'bukunya', 'huuu', 'sebel', 'jelek', 'usah', 'download'], ['terpasang'], ['kagak', 'dibuka', 'aplikasi', 'padahal', 'sdah', 'beli', 'paketan'], ['gabisa', 'download'], ['bukan', 'tempat', 'buat', 'baca', 'novel'], ['apaaan', 'baca'], ['cara', 'bacanyaa'], ['gimanaa', 'dibaca'], [], ['bagus', 'kalau', 'maau', 'buka', 'baca', 'balik', 'tampilan', 'awal', 'tulisan', 'awal'], ['mano', 'baca'], ['gatau', 'cara', 'bacanya'], ['jelas', 'baca', 'buku'], ['bgus', 'hrus', 'baca', 'online', 'buat', 'bnyk', 'grtis', 'offline'], ['want', 'read', 'book', 'download', 'this', 'this', 'just', 'like', 'social', 'media', 'share', 'what', 'book', 'that', 'have', 'read', 'free', 'book'], ['apaan', 'dibuka'], ['gimana', 'cara', 'bacanya', 'bntu', 'dong'], ['cara', 'bacanya', 'sihh'], ['mending', 'google', 'play', 'buku'], ['cuma', 'judul'], ['baca', 'buku', 'beli', 'dulu'], ['diunduh', 'susah', 'kali', 'unduhan', 'gagal', 'terus'], ['baca', 'buku', 'gratis', 'akhirnya'], ['review', 'doank', 'dikirain', 'ebook'], ['dwnload', 'coba'], ['bingung', 'cara', 'bacanya', 'kecewa', 'download'], ['perjanjian', 'hati'], ['think', 'this', 'book', 'reader', 'actually', 'only', 'reviewer', 'book'], ['maaf', 'cara', 'bacanya', 'gimana', 'kasih'], ['menarik', 'gunanya'], ['download', 'refensi', 'review', 'bukan', 'menjiplak', 'kadang', 'baca', 'buku', 'liat', 'rating', 'review', 'disini', 'sungguh', 'membantu'], ['great', 'love', 'throws', 'feels', 'after', 'when', 'read', 'book', 'cute'], ['bukan', 'membaca', 'share', 'rekomendasi', 'buku', 'komenin', 'buku', 'udah', 'baca', 'bikin', 'waiting', 'list', 'buku', 'dibaca', 'dibeli', 'sangat', 'menarik', 'challenge', 'diri', 'sendiri', 'membaca', 'rekomen', 'buku²', 'menarik', 'dibaca', 'pengguna'], ['mantap'], ['good', 'application', 'find', 'what', 'books', 'have', 'read'], ['aplikasi', 'berguna', 'banget', 'buat', 'lumayan', 'suka', 'membaca', 'buku', 'aplikasi', 'bukan', 'buat', 'baca', 'buku', 'jadi', 'berekspektasi', 'baca', 'buku', 'lewat', 'aplikasi', 'kalian', 'salah❌', 'aplikasi', 'buat', 'liat', 'review', 'orang', 'terkait', 'suatu', 'buku', 'liat', 'rekomendasi', 'buku', 'nyatat', 'buku', 'udah', 'baca'], ['bagus', 'banget', 'buku', 'bukunya'], ['bukunya', 'dibaca'], ['thans', 'made', 'this'], ['sangat', 'buruk'], ['bagus', 'baca', 'apapun', 'disini'], ['baru', 'langganan', 'liat', 'bagus', 'aplikasinya'], ['like'], ['assalamualaikum', 'beli', 'caranya', 'bagai', 'mana', 'indonesia'], ['interested', 'reading', 'here', 'very', 'interesting', 'thank', 'very', 'much'], ['kalau', 'kalian', 'bingung', 'pengen', 'cari', 'buku', 'terus', 'pengen', 'liat', 'review', 'review', 'buku', 'aplikasi', 'sangat', 'cocok', 'kalian'], ['bagus', 'banget', 'kalau', 'ragu', 'beli', 'buku', 'lihat', 'ulasan', 'pembaca', 'disini', 'terus', 'buat', 'mereview', 'buku', 'jadi', 'inget', 'buku', 'pernah', 'baca', 'kesan', 'didapat', 'buku', 'tersebut', 'reading', 'challenge', 'tiap', 'tahun', 'ditahun', 'baca', 'buku', 'buat', 'nanya', 'baca', 'bukunya', 'buat', 'mereview', 'buku', 'lihat', 'review', 'orang', 'kalau', 'misal', 'ragu', 'beli', 'bukan', 'baca', 'buku'], ['amazing'], [], [], [], ['good'], ['good'], ['good'], ['good'], ['good'], ['good'], ['good'], ['good'], ['memuaskan'], ['perfect'], ['bagus', 'banget', 'buat', 'cari', 'novel', 'saran', 'kritik', 'novelnya', 'mikir', 'dulu', 'beli🤭👍🏻'], ['thanks'], ['sangat', 'bermanfaat', 'terima', 'kasih', 'membuat', 'aplikasi', 'ini🥰'], ['bagus'], ['bagus'], [], ['mantap'], ['aplikasi', 'sangat', 'membantu', 'bingung', 'cari', 'buku', 'kecewa', 'review', 'review', 'buku', 'sangat', 'membantu', 'mempertimbangkan', 'beli', 'buku', 'menurutku', 'buku', 'direview', 'sangat', 'lengkap', 'jadi', 'dijadikan', 'wishlist', 'selanjutnya'], ['aplikasi', 'bukan', 'buat', 'baca', 'full', 'bukunya', 'kalau', 'kecewa', 'baca', 'buku', 'jangan', 'seenaknya', 'kasih', 'rating', 'deskripsi', 'jelas'], ['biasakan', 'baca', 'deskripsi', 'bacain', 'ulasan', 'orang', 'dulu', 'mendownload', 'guys', 'banyak', 'banget', 'complain', 'baca', 'aplikasi', 'buat', 'cari', 'review', 'buku', 'jadi', 'bukan', 'buat', 'baca', 'guys', 'budayakan', 'literasi'], ['sangat', 'membantu', 'banget', 'buat', 'milih', 'buku', 'sekadar', 'review', 'buku', 'dibaca', 'buat', 'marah', 'baca', 'buku', 'aplikasi', 'baik', 'baca', 'deskripsinya', 'teliti'], ['novel', 'lovers', 'recommended', 'guys', 'download', 'this', 'because', 'very', 'membantu', 'kalian', 'buku', 'kalian', 'baca', 'menarik', 'suka', 'fiturnya', 'fitur', 'peringatan', 'komennya', 'spoiler', 'seberapa', 'banyak', 'typo', 'bukunya', 'kalau', 'kalian', 'tahu'], ['nice'], ['nice'], ['nice'], ['disini', 'komik', 'miiko'], ['buat', 'ngira', 'aplikasi', 'buat', 'baca', 'buku', 'nyebut', 'dirimu', 'pembaca', 'baca', 'dulu', 'deskripsinya', 'dulu', 'baca', 'dulu', 'deskripsi', 'baru', 'download', 'hedeh'], ['baru', 'beli', 'buku', 'download', 'jadi', 'review', 'orang', 'orang', 'detail', 'cerita', 'buku', 'beli', 'best'], ['great', 'baca', 'review', 'dulu', 'buat', 'memutuskan', 'beli', 'buku', 'interaksi', 'sama', 'author', 'author', 'kece', 'banyak', 'pembaca', 'lainnya', 'plis', 'orang', 'orang', 'indonesia', 'bukan', 'aplikasi', 'baca', 'buku', 'aplikasi', 'buat', 'review', 'buku', 'kalian', 'baca', 'sebenernya', 'seenaknya', 'kasih', 'rating', 'rendah'], ['sangat', 'memberi', 'manfaat', 'beli', 'buku', 'jadi', 'kekurangan', 'kelebihan', 'karya', 'trims'], ['bagus', 'alhamdulillah', 'terima', 'kasih'], ['suka', 'bangeet', 'buat', 'nambah', 'temen', 'berapa', 'buku', 'udah', 'dibaca', 'nyusun', 'bacaan', 'baca', 'review', 'orang', 'jadi', 'buku', 'buku', 'underrated', 'sebenarnya', 'uwaw', 'buat', 'bilang', 'gimana', 'cara', 'baca', 'bukunya', 'aplikasi', 'buat', 'review', 'bukan', 'baca', 'jadi', 'kalau', 'bava', 'buku', 'beli', 'bukunya', 'download', 'ipusnas', 'apapun', 'soalnya', 'buat', 'review', 'buku', 'tenkyu'], ['upgrade', 'mencari', 'buku', 'terus', 'instal', 'ulang', 'sekarang', 'login', 'lewat', 'facebook'], ['istri', 'hamil', 'minta', 'dientot'], ['keren', 'suka', 'sama', 'fitur', 'read', 'challengenyaaa'], ['batuan', 'dong', 'baca', 'buku', 'carnya', 'bagai', 'mana'], ['yoohooo'], ['download', 'aplikasi', 'bingung', 'baca', 'buku', 'mana', 'liat', 'review', 'orang', 'orang', 'buku', 'buku', 'direkomendasikan'], ['udah', 'paling', 'bener', 'aplikasi'], ['nice', 'application', 'aplikasi', 'sangat', 'berguna', 'diriku', 'hobi', 'membaca', 'judul', 'bukunya', 'lumayan', 'lengkap', 'baru', 'sadar', 'reading', 'challengenya', 'jadi', 'tambah', 'semangat', 'baca', 'buku'], ['coba', 'dulu', 'dech'], [], ['bacaan', 'banyak', 'suka'], ['dibaca', 'teliti'], ['keren', 'banget'], ['suka', 'sama', 'aplikasinya', 'emang', 'bukan', 'aplikasi', 'buat', 'baca', 'buku', 'nyari', 'buat', 'referensi', 'jadi', 'kalo', 'beli', 'buku', 'nyari', 'sini', 'liat', 'ratingnya'], ['suka', 'bnget', 'chalengge', 'baca', 'buku', 'jadi', 'merasa', 'tertantang', 'buat', 'baca', 'buku', 'sebanyak', 'banyaknya', 'menambah', 'khazanah', 'ilmu', 'bahasa'], ['good', 'inget', 'buat', 'review', 'buku', 'bukan', 'baca', 'buku'], ['kira', 'ebook', 'ternyata', 'ripiu'], [], ['medsos', 'buat', 'review', 'buku', 'saling', 'rekomen', 'buku', 'tandai', 'buku', 'dibaca', 'bukan', 'baca', 'buku'], ['sepertinya', 'banyak', 'salah', 'paham', 'aplikasi', 'padahal', 'aplikasi', 'sangat', 'membantu', 'mencari', 'buku', 'worth'], ['plis', 'allah', 'bukan', 'buat', 'mbaca', 'mbok', 'baca', 'dulu', 'penjelasannya', 'orang', 'bego', 'heran'], ['baru', 'inget', 'aplikasi', 'berguna', 'gini', 'seingetku', 'dulu', 'pernah', 'pake', 'aplikasi', 'lewat', 'kukira', 'emang', 'buat', 'baca', 'buku', 'ternyata', 'enggak', 'akhirnya', 'tinggalin', 'aplikasi', 'nyatanya', 'buat', 'review', 'bantu', 'banget', 'buat', 'konsumtif', 'buku'], ['recomended', 'banget', 'buat', 'nyarik', 'review', 'buku'], ['lets', 'goooo', 'reads'], ['bagus', 'cari', 'rekomendasi', 'buku'], ['guys', 'buat', 'ngira', 'aplikasi', 'buat', 'baca', 'bukunya', 'wrong', 'buat', 'ngasi', 'review', 'buku', 'novel', 'bukan', 'buat', 'baca', 'bukunya', 'baca', 'buku', 'gratis', 'jangan', 'disini'], ['aplikasi', 'worth', 'banget', 'disini', 'lebih', 'banyak', 'belajar', 'kata', 'inggris', 'ngerti', 'pokonya', 'buat', 'belajar', 'bahasa', 'inggris'], ['maaf', 'sorry', 'banget', 'ngerti', 'bahasa', 'inggris', 'binggung', 'pakainya', 'maaf', 'unstal'], ['kebantu', 'banget', 'buat', 'preview', 'dulu', 'sblm', 'beli', 'buku'], ['aplikasi', 'bagus', 'banget', 'berkah', 'semuanya'], ['love'], ['memudahkan'], ['jadi', 'mengurangi', 'rasa', 'konsumtifku', 'toko', 'buku', 'membeli', 'buku', 'jadi', 'terbiasa', 'mempertimbangkannya', 'sematang', 'mungkin', 'liat', 'beberapa', 'referensi', 'thaks'], ['good', 'review'], ['buat', 'review', 'buku', 'recommended', 'bangett'], ['bagus', 'bagaimana', 'cara', 'buka', 'buku'], ['sukak'], ['kayak', 'gini', 'jadi', 'beli', 'buku', 'incer', 'emang', 'beneran', 'recommended', 'sekarang', 'kalo', 'toko', 'buku', 'tinggal', 'ambil', 'buku', 'terus', 'bayar', 'lebih', 'efektif', 'efisien'], ['good'], ['good'], ['mantull', 'lahh', 'salahh', 'instal'], ['👍👍👍👍'], ['berguna', 'sekali'], ['njir', 'ngakak', 'sampe', 'bulan', 'aplikasi', 'kurleb', 'kaya', 'imdb', 'kalo', 'suka', 'nonton', 'film', 'isinya', 'sinopsis', 'blurb', 'rate', 'reviews', 'rekomendasi', 'serba', 'serbinya', 'bukan', 'penyedia', 'film', 'kalo', 'kasusnya', 'disini', 'penyedia', 'soft', 'file', 'buku', 'awkwkwkwkwk'], ['great'], ['very', 'helpful', 'find', 'information', 'books', 'that', 'curious', 'want'], ['suka', 'tantangan', 'membacanya', 'memudahkan', 'mengetahui', 'penilaian', 'buku', 'membeli', 'makasih', 'goodreads'], ['ampun', 'sini', 'banyak', 'ngegas', 'padahal', 'khusus', 'buat', 'ngasih', 'review', 'ngeliat', 'review', 'buku', 'alias', 'penilaian', 'mengenai', 'sebuah', 'buku', 'buat', 'baca', 'buku'], ['gimana', 'ngakak', 'banyak', 'tahu', 'kalau', 'cuma', 'aplikasi', 'review', 'buku', 'novel', 'kurang', 'lebih', 'lihat', 'orang', 'ingat', 'diriku', 'dulu', 'sama', 'kalau', 'baca', 'buku', 'gratis', 'ipusnas'], ['bagus', 'aplikasi', 'bagus', 'buat', 'reading', 'maraton', 'jadi', 'lebih', 'konsisten', 'baca', 'buku', 'jadi', 'lebih', 'dikit', 'suka', 'aplikasi'], ['mencoba', 'iseng', 'kasih', 'bintang'], ['rekomended'], ['sangat', 'membantu', 'mencari', 'referensi', 'buku', 'bagus'], ['bantuan', 'bisamembantu'], ['aplikasi', 'book', 'review', 'terbaik'], ['suka'], ['good'], ['good'], ['good'], ['good'], ['good'], [], ['berguna', 'bener', 'dipakek', 'nyari', 'buku', 'buku', 'bagus', 'ngerti', 'aplikasi', 'emang', 'bukan', 'baca', 'gratis', 'lebih', 'membantu', 'nyari', 'buku', 'sesuai', 'selera'], ['semoga', 'berguna', 'memberi', 'tambahan', 'wawsan'], ['aplikasi', 'berguna', 'orang', 'orang', 'emang', 'suka', 'baca', 'buku', 'cari', 'rekomendasi', 'buku', 'bagus', 'aplikasi', 'sangat', 'membantu', 'fitur', \"'want\", 'read', 'membuat', 'mudah', 'mengingat', 'buku', 'baca', 'kedepannya', 'disini', 'mencatat', 'progress', 'bacaan', 'orang', 'tahu', 'aplikasi', 'hukan', 'baca', 'buku', 'download', 'buku', 'gratis', 'aplikasi', 'berisi', 'ulasan', 'buku', 'rekomendasi', 'buku'], ['bagus', 'buat', 'cari', 'buku', 'best', 'seller', 'direkomendasikan'], ['nice'], ['best', 'ever', 'indonesia', 'budayakan', 'membaca', 'dibantu', 'apps', 'biar', 'kalian', 'review', 'buku', 'kalian', 'beli'], ['netizen', 'indonesia', 'semua', 'bukannya', 'baca', 'deskripsi', 'dulu', 'udah', 'aplikasi', 'buat', 'review', 'buku', 'bukan', 'buat', 'baca', 'download', 'ebook'], ['thank', 'goodreads'], ['bermanfaat', 'sekali', 'lihat', 'review', 'rekomendasi', 'buku', 'temen²', 'misal', 'bingung', 'beli', 'buku', 'toko', 'buku', 'thank', 'godreads'], ['beli', 'buku', 'cari', 'reviewnya', 'goodreads', 'dulu', 'bagus', 'review', 'buku', 'disini'], ['hari', 'gini', 'goodreads'], ['guddddddddddd'], ['orang', 'orang', 'tahu', 'aplikasi', 'bukan', 'membac', 'memcari', 'buku', 'mengetahua', 'komentar', 'orang', 'buku', 'cari'], ['very', 'nice'], [], ['this', 'very', 'helpfull', 'thank'], ['aplikasi', 'bagus', 'gini', 'tahu', 'gimana', 'novelnya', 'memutuskan', 'membelinya'], ['cakep'], ['nice', 'indonesian', 'thanks'], ['suka', 'aplikasi', 'nanya', 'opsi', 'ngubah', 'bahasa', 'bahasa', 'inggris', 'bahasa', 'indonesia', 'kalo', 'kasih', 'memang', 'sedikit', 'berbahasa', 'inggris', 'terima', 'kasih'], ['great', 'please', 'make', 'more', 'great', 'smooth', 'better', 'experience'], ['sebelumnya', 'memberitahu', 'aplikasi', 'review', 'mengulas', 'suatu', 'buku', 'kalau', 'memang', 'berniat', 'membaca', 'buku', 'secaea', 'gratis', 'lewat', 'aplikasi', 'coba', 'aplikasi', 'legal', 'pemerintah', 'ijak', 'ataupun', 'ipusnas', 'terima', 'kasih'], ['heran', 'sekaligus', 'malu', 'sama', 'orang', 'indo', 'aplikasi', 'keren', 'gini', 'dibilang', 'buruk', 'sama', 'ngeluarin', 'kata', 'kata', 'kebun', 'binatang', 'padahal', 'deskripsi', 'udah', 'tertulis', 'jelas', 'buat', 'review', 'bukan', 'buat', 'baca', 'gratis', 'kalau', 'baca', 'gratis', 'wattpad', 'sana', 'budayakan', 'membaca', 'goodreads', 'this', 'good', 'thank'], ['seru', 'buat', 'nyari', 'referensi', 'buku', 'cuma', 'orang', 'bego', 'kali', 'ngira', 'buat', 'baca', 'buku', 'online', 'terus', 'dislike', 'hmmmm'], ['good', 'apps'], ['hadeeh', 'kalo', 'baca', 'buku', 'gratis', 'perpustakaan', 'sono', 'heran', 'ngasih', 'rating', 'jelek', 'alesannya', 'dibaca', 'bukunya', 'emang', 'goodreads', 'bukan', 'tempat', 'buat', 'baca', 'ebook', 'gratis'], ['arsitekture'], ['dear', 'kamu', 'sering', 'baca', 'buku'], ['bagus', 'perluck', 'perpus', 'bikin', 'jurnal', 'buku', 'dngn', 'jadi', 'gampil', 'gampil', 'gampiiiiiiil'], ['keren', 'banget'], ['baik'], ['goodreads', 'suka', 'tampilan', 'baru', 'aplikasi', 'sekarang', 'buka', 'seting', 'kalau', 'dulu', 'buka', 'pokoknya', 'mantap', 'cuman', 'fitur', 'otomatis', 'otomatis', 'share', 'akun', 'facebook', 'apabila', 'mulai', 'membaca', 'buku', 'progres', 'membaca', 'meberikan', 'rating'], ['mantap', 'tampilan', 'kurang', 'paham', 'gimana', 'berbayar'], ['membaca', 'sebagian', 'review', 'disini', 'memberi', 'bukti', 'orang', 'indonesia', 'memang', 'kurang', 'literasi', 'bahkan', 'aplikasi', 'jelas', 'review', 'malah', 'dikatakan', 'baca', 'buku', 'gratis', 'halo', 'dear', 'pakai', 'aplikasinya', 'baca', 'dulu😉', 'suka', 'aplikasi', 'terutama', 'fitur', 'reading', 'challenge', 'fitur', 'tersebut', 'membuat', 'jadi', 'semakin', 'semangat', 'membaca', 'fitur', 'bookshelf', 'jadi', 'bikin', 'buku', 'pribadi', 'disini', 'kerenn', 'kedepannya', 'perbaiki', 'tampilan', 'mobile', 'lebih', 'friendly'], ['bagus', 'buat', 'waktu', 'luang'], ['mending', 'liat', 'bagus'], ['gatau', 'keren'], ['keren', 'jadi', 'tahu', 'mana', 'buku', 'bagus', 'jelek'], ['dear', 'sayang', 'sayangku', 'bilang', 'kasih', 'rate', 'jelek', 'baca', 'dulu', 'aplikasi', 'jangan', 'malas', 'membaca', 'cinta', 'goodreads', 'aplikasi', 'website', 'review', 'buku', 'novel', 'ataupun', 'baru', 'dipublish', 'dijadikan', 'referensi', 'membeli', 'membaca', 'bukan', 'aplikasi', 'membaca', 'gratis', 'tpad'], ['terbaik'], ['buat', 'kalian', 'bilang', 'aplikasi', 'jelek', 'helow', 'buat', 'review', 'buku', 'bukan', 'baca', 'buku', 'capslock', 'sama', 'marah', 'makasih'], ['buat', 'bilang', 'aplikasi', 'jelek', 'pahami', 'dulu', 'aplikasi', 'apaan', 'instal', 'aplikasi', 'memberi', 'melihat', 'review', 'bukan', 'aplikasi', 'membaca', 'novel', 'gratis'], ['orang', 'tolol', 'pake', 'memudahkan', 'goodreads', 'good', 'apps'], ['terlalu', 'banyak', 'orang', 'goblok', 'komen', 'dibawah', 'khas', 'konsumen', 'indonesia', 'pinginnya', 'gratisan', 'aplikasi', 'buat', 'orang', 'baca', 'buku', 'dunia', 'nyata', 'baru', 'ngasih', 'ulasan', 'aplikasi', 'hasilnya', 'membantu', 'orang', 'lihat', 'rating', 'komentar', 'siapa', 'tahu', 'buku', 'ratingnya', 'bagus', 'ternyata', 'memang', 'buku', 'bagus', 'modar', 'sana', 'otak', 'gratisan', 'nyela', 'komen', 'pedas', 'mengkritik', 'asal', 'mangap', 'baca', 'penjelasan', 'aplikasi', 'ngapain', 'sekolah', 'buat', 'baca', 'bokep', 'punya', 'internet', 'otak', 'digunain', 'napa', 'tolol'], ['gimana', 'cara', 'bacanya'], ['buat', 'nyesel', 'download', 'bilang', 'jelek', 'dear', 'review', 'buku', 'membantu', 'kalian', 'kalo', 'beli', 'buku', 'just', 'liat', 'buku', 'baru', 'terbit', 'bukan', 'baca', 'buku', 'gratis', 'kalo', 'download', 'plis', 'dilihat', 'dulu', 'rinciannya', 'jangan', 'asal', 'mencela'], ['nice'], ['sering', 'susah', 'menggunakanvaplikasi'], ['didownload'], ['love'], ['excelent', 'market', 'affiliation', 'with', 'book', 'store', 'online', 'shop'], ['much'], ['bagus'], ['sangat', 'bermanfaat'], ['that', 'good', 'application', 'thank'], ['ممتاز'], ['keren'], [], ['aplikasi', 'sangat', 'bagus👍'], ['good'], ['suka', 'sekali', 'sangat', 'membantu', 'terutama', 'pelajar', 'pecinta', 'buku', 'membaca', 'suka', 'dikasih', 'tugas', 'laporan', 'literasi', 'semester', 'abreg', 'berasa', 'nemu', 'sumber', 'ditengah', 'gurun', 'tandus', 'gausah', 'ribet', 'pusing', 'nyari', 'link', 'download', 'buku', 'pinjem', 'perpus', 'beli', 'pokoknya', 'makasih', 'suka', 'kamu', 'maksudnya', 'aplikasi', 'bukan', 'kamu', 'baper', 'paansii'], ['thaks', 'this', 'help', 'me😍😍😍'], ['goood'], ['beramal', 'lewat', 'ilmu'], ['semoga', 'bermanfaat'], ['maybe', 'need', 'more', 'support', 'indonesian', 'language', 'books'], ['good', 'good', 'good'], ['😊😀😀😀😀😁'], ['good', 'apps'], ['bagus'], ['suka'], ['sangat', 'membantu', 'pecinta', 'buku'], ['alhamdulillah'], ['giod'], ['semoga', 'peminatnya', 'makin', 'banyak'], ['thank', 'this', 'semoga', 'lebih', 'cepat', 'update', 'about', 'books'], ['bagus', 'melihat', 'review'], ['lumayan', 'buat', 'riview'], [], ['like'], ['tempat', 'review', 'buku', 'lihat', 'penilaian', 'orang', 'suatu', 'buku', 'bukan', 'tempat', 'baca', 'buku', 'bahkan', 'tulisan'], ['rasa', 'bagus', 'sekali', 'aplikasi', 'memudahkan', 'memba', 'novel', 'jadi', 'perlu', 'repot', 'keluar', 'rumah', 'membeli', 'buku', 'karna', 'disini', 'terdapat', 'semuanya'], ['siiip']]\n"
          ]
        }
      ]
    },
    {
      "cell_type": "code",
      "source": [
        "path_slang = open(\"kamus kata baku 1.csv\")\n",
        "slang = pd.read_csv(path_slang, encoding = 'utf-8', header=None, sep=\";\")\n",
        "\n",
        "def replaceSlang(word):\n",
        "  if word in list(slang[0]):\n",
        "    indexslang = list(slang[0]).index(word)\n",
        "    return slang[1][indexslang]\n",
        "  else:\n",
        "    return word\n",
        "\n",
        "ulasan_formal= []\n",
        "for data in dsPenting:\n",
        "  ds_clean = [replaceSlang(word) for word in data]\n",
        "  ulasan_formal.append(ds_clean)\n",
        "#len_ulasan_formal = len(ulasan_formal)\n",
        "print(ulasan_formal)\n",
        "#len_ulasan_formal"
      ],
      "metadata": {
        "colab": {
          "base_uri": "https://localhost:8080/"
        },
        "id": "7qyXDj3gf3WK",
        "outputId": "22673d08-4d85-4b9f-f8f6-3800925961c5"
      },
      "execution_count": 17,
      "outputs": [
        {
          "output_type": "stream",
          "name": "stdout",
          "text": [
            "[['error'], ['tulisan', 'page', 'unavailable', 'mengganti', 'profil', 'refresh', 'akun', 'diweb', 'bintang', 'satu'], ['usernya', 'banyak', 'toxic'], ['membuka', 'aplikasinya', 'aplikasinya', 'selalu', 'keluar', 'sendiri', 'malah', 'selalu', 'keluar', 'sedang', 'mencari', 'buku'], ['jujur', 'aplikasi', 'ribet', 'banget', 'sepertinya', 'bukan', 'aplikasi', 'membaca', 'delete', 'this', 'aplication'], ['seringkali', 'buku', 'dibaca'], ['punyaku', 'beda', 'lainn', 'padahal', 'punyaku', 'bukan', 'pick', '\\u2060｡\\u2060•́\\u2060︿\\u2060•̀\\u2060｡\\u2060'], ['aplikasi', 'praktis'], ['aplikasi'], ['diduga', 'kumpulan', 'buku', 'sini', 'ternyata', 'cuma', 'judul'], ['banyak', 'kasih', 'spoiler'], ['community', 'reviews'], ['menyesal', 'donlod', 'buka', 'cuma', 'judul', 'buka', 'baca'], ['cant', 'continue', 'login', 'with', 'facebook', 'account', 'when', 'want', 'login', 'email', 'also'], ['digunain', 'cuma', 'reload', 'terus', 'padahal', 'sudah', 'update', 'versi', 'terbaru', 'signal', 'bagus'], ['hiiit', 'force', 'close'], ['jelek', 'baca'], ['masuk', 'mental', 'mental', 'mulu😪'], ['cara', 'bacanya', 'bagaimana', 'daritadi', 'ngotak', 'ngatik', 'terus'], ['goodreads', 'does', 'have', 'look', 'seperti', 'version', 'though', 'version', 'much', 'neater', 'aesthetic', 'segar', 'because', 'updated', 'apply', 'disini'], ['bingung'], ['masuk', 'pakai', 'akun', 'bantu'], ['bangsat', 'dikira', 'buat', 'baca', 'tolol'], ['baca'], ['sumpah'], ['tidakbisa', 'daftar', 'gaguna'], ['alias', 'bohong'], ['berguna', 'install'], ['bagaimana', 'baca', 'bukunya'], ['kasih', 'bintang', 'saku', 'karena', 'tidakbisa', 'daftar', 'dikasih', 'passwordnya', 'sudah', 'benar', 'salah', 'lanjut', 'lewat', 'facebook', 'perbaiki'], ['annjir', 'susah', 'masuk', 'akun', 'sekarang'], ['bacanya', 'sini'], ['login'], ['aplikasi', 'jelas'], ['cara', 'bacanya'], ['login'], ['ribet'], ['anjir'], ['buat', 'berpikir', 'baca', 'buku', 'novel', 'jangan', 'downlod', 'bukan', 'buat', 'baca', 'buku'], ['salah', 'copot', 'sorry', 'dikira', 'buat', 'baca', 'pakai', 'aplikasi', 'aplikasi', 'apaan', 'gunanya', 'buat'], ['perbaiki', 'sangat', 'susah', 'login', 'kezel'], ['sudah', 'lama', 'pakai', 'aplikasi', 'suka', 'buat', 'cari', 'rating', 'update', 'progres', 'baca', 'masa', 'buka', 'buku', 'sudah', 'dibaca', 'baca', 'challenge', 'tiba', 'tiba', 'keluar', 'sendiri', 'dicoba', 'hapus', 'cache', 'tetap', 'keluar', 'aplikasi'], ['bad👎'], ['baca', 'bukunya', 'cuma', 'lihat', 'gambarnya', 'cuma', 'wakau', 'punya', 'comicnya'], ['maaf', 'sebelumnya', 'kenapa', 'login', 'kata', 'terhubung', 'internet', 'buka', 'aplikasi', 'berhubungan', 'internet', 'maksimal', 'mohon', 'tindak', 'lanjuti'], ['kalau', 'kasih', 'bintang', 'soalnya', 'enak', 'banget', 'membuat', 'susah', 'cari', 'buku', 'pusing', 'buat', 'bacanya', 'lihat', 'youtube', 'ngebantui', 'subtitlenya', 'menyesal', 'meminta', 'lebih', 'mengerti', 'memakainya', 'soalnya', 'susah', 'bingung', 'dibaca', 'dijadikan', 'lebih', 'mudah', 'dipakai', 'bukan', 'rasa', 'orang', 'rasnya', 'terima', 'kasih🙏'], ['really', 'really'], [], ['aplikasi'], ['nipu'], ['bagaimana', 'cara', 'bacanya', 'sulit', 'uinstal', 'dasar', 'kontol'], ['bagaimana', 'cara', 'membuka', 'membacanya'], ['sulit'], ['kasih', 'ulasan', 'dulu', 'cara', 'baca', 'bukunya', 'bagaimana', 'kebuka'], ['bagus'], ['jelek', 'menyambung'], ['bagaimana', 'membaca', 'mohon', 'bantuannya'], ['ngentot', 'aplikasi', 'vuman', 'buat', 'lihat', 'ulasan', 'cuma'], ['kira', 'membaca', 'melihat', 'google', 'baca', 'gratis', 'rekomendasi'], ['mengerti', 'serch', 'dibuka'], ['buat', 'login'], ['entahlah'], ['love', 'this', 'apps', 'because', 'helps', 'track', 'baca', 'progress', 'barcode', 'scanner', 'working', 'difficulties', 'switching', 'another', 'version', 'buku', 'without', 'scanner'], ['jelas'], ['enggakjelas'], ['love', 'this', 'scanner', 'working'], ['kalau', 'bukunya', 'bagaimana'], ['sampah', 'sudah', 'menghabiskan', 'banyak', 'quota', 'tidakbisa', 'dibaca', 'bukunya'], ['lama', 'banget', 'download'], ['jelek', 'sangat', 'bacaanya', 'palsu'], ['penipu', 'enggak'], ['dear', 'goodreads', 'bagaimana', 'cara', 'membacanya', 'pilihan', 'langsung', 'keluar', 'teks', 'bacaan', 'bukunya'], ['does', 'buku', 'scanner', 'work'], ['suka'], ['bagaimana', 'cara', 'baca', 'bukunya', 'mohon', 'diberi', 'panduan'], ['kontol'], ['kontol'], ['passwordnya', 'diterima'], ['menyesal', 'download'], ['membaca', 'buku'], ['kayak', 'membuat', 'kesal', 'download'], ['ribet'], ['ribet'], ['cara', 'bacanya', 'enggakjelas'], ['bagaimana', 'cara', 'membacanya', 'ribet', 'ya', 'huuufffft'], ['sebelllll'], ['mengerti', 'cara', 'memnggunakan', 'muater', 'putar', 'cari', 'judul', 'buku', 'kebuka', 'hanya', 'rfernsi', 'bagaimana', 'baca', 'buku'], ['mengerti', 'gunanya', 'aplikasi', 'cara', 'membaca', 'buku', 'aplikasi', 'putar', 'putar', 'tadi', 'menunya'], ['tidakbisa', 'baca'], ['susah', 'login', 'malah', 'dibaca', 'kecewa☹️'], ['kasih', 'cara', 'baca', 'buku', 'aplikasi', 'bagaimana'], ['cara', 'membaca', 'pakai', 'aplikasi', 'bagaimana'], ['cuma', 'buat', 'rekomendasi', 'buku', 'cuma'], ['cara', 'login', 'bagaimana', 'anzeng'], ['thought', 'this', 'application', 'membaca'], ['entah', 'gimana', 'cara', 'bacanya', 'membingungkan'], ['login'], ['tahu', 'this', 'lol😆😆'], ['login', 'error', 'amazon', 'gmail', 'errorrrrrrr'], ['aplikasi', 'jelas', 'dibaca', 'bukunya'], ['buruk👎'], ['aplikasi', 'membuang', 'waktu', 'dowload', 'tetap', 'infb', 'salah', 'salah', 'terus', 'katanya', 'pasword', 'email', 'menyambung', 'rugi', 'dowload'], ['aplikasi', 'juancok'], ['gerti', 'petunjuk'], ['hate'], ['cara', 'bacanya', 'bagaimana'], ['bantu', 'bagaimana', 'cara', 'baca', 'buku', 'youtube', 'tutorial'], ['selalu', 'berhenti', 'mohon', 'penjelasan'], ['jadi', 'biar', 'baca', 'bagaimana', 'download', 'alplikasi', 'begitu', 'biar', 'baca', 'komentar', 'tmpat', 'baca', 'gratis', 'bagaimana', 'biar', 'bacanya'], ['aplikasi', 'jelek'], ['jelek'], ['bagaimana', 'cara', 'baca', 'bukunya'], ['bagaimana', 'cara', 'membacanya'], ['aplikasi', 'mana', 'didownload', 'dibaca', 'dasar', 'jelas'], ['bagaimana', 'cara', 'masuk', 'selalu', 'email', 'salah'], ['kecewa', 'tertipu😝'], ['aplikasi', 'kimak', 'ngapain²', 'pun😈😈', 'aplikasi', 'otak'], ['aplikasi', 'bagus', 'banget', 'seperti', 'tahi'], ['apaan', 'novelnya', 'dibaca', 'menyesal', 'downlod', 'ini😤😡'], ['baca', 'menyesal', 'download', 'hapus', 'jelek'], ['macam', 'anjing', 'masuk'], ['apaan', 'anjg'], ['free', 'membaca', 'buku', 'deleted'], ['capek', 'aing', 'masuk', 'masuk', 'capeeeeee'], ['baik', 'aplikasi', 'sign'], ['cara', 'bacanya', 'bagaimana', 'ribet'], ['akmj'], ['cant', 'login'], ['aplikasi', 'bangsat', 'terus'], ['login', 'pakai', 'banyak', 'polah', 'sederhana', 'usah', 'membuat', 'repot', 'download'], ['aplikasi', 'jelek', 'entah', 'bagaimana', 'cara', 'bacanya'], ['mengerti', 'cara', 'membacanya', 'beri', 'tahu', 'cara', 'membacanya', 'memperbaiki', 'rating', 'menjadi', 'bintang', 'terima', 'kasih'], ['login'], ['cara', 'membacanya'], ['tahu', 'used', 'this'], ['aplikasi', 'abisin', 'kuota', 'masuk', 'email', 'menyesal', 'download'], ['aplikasi', 'menghabiskan', 'waktu'], ['berpikir', 'this', 'membaca', 'buku', 'this', 'sell', 'buku'], ['anjir'], ['digunakan', 'aplikasi', 'bacaan'], ['beli', 'buku', 'amazon'], ['cara', 'bacanya', 'bagaimana'], ['cara', 'bacanya', 'bagaimana'], ['baca', 'buku', 'bohongg', 'senyel', 'download'], ['bertele', 'tele'], ['lengkap', 'novelnya'], ['aplikasi', 'sampah'], ['cara', 'bacanya', 'bagaimana', 'jelas'], ['download', 'masuk', 'ternyata', 'mbingungkan', 'aktif', 'member', 'masih', 'baca', 'aplikasi', 'buang', 'kuota', 'nih', 'capek', 'ngeseliiiiiiinnnnnnnn'], ['membaca', 'this', 'buku', 'membaca', 'miko', 'cant'], ['suka', 'aplikasi', 'karena', 'penggemar', 'fanfaction', 'prillvers'], ['aplikasi', 'enggakjelas'], ['this', 'cant', 'membaca', 'buku', 'disana', 'hate', 'this', 'much'], ['susah', 'buat', 'baca', 'bukunya', 'jelassss'], ['susah', 'buat', 'daftarnya', 'tidak'], ['tidak', 'mengerti'], ['scan', 'buku'], ['user', 'usernya', 'selalu', 'menggunakan', 'bahasa', 'kasar', 'says', 'jadi', 'nyaman'], ['dibuka'], ['enggakjelas', 'anjng', 'cara', 'bacanya'], ['caranya', 'nyed'], ['baru', 'sedikt', 'kesulitan'], ['diduga', 'bukunya', 'gratis', 'ternyata', 'beli'], ['where', 'information', 'about', 'genre', 'award'], ['aplikasi', 'jelas'], ['bagaimana', 'cara', 'pakainya', 'membuat', 'bingung'], ['damn'], ['step', 'step', 'terlalu', 'susah', 'putar', 'putar', 'selalu', 'kosong', 'tengah', 'entah', 'memang', 'aplikasinya', 'kurang'], ['bagaimana', 'cara', 'membaca', 'bukunya', 'huuu', 'sebal', 'jelek', 'usah', 'download'], ['terpasang'], ['tidak', 'dibuka', 'aplikasi', 'padahal', 'sudah', 'beli', 'paketan'], ['tidakbisa', 'download'], ['bukan', 'tempat', 'buat', 'baca', 'novel'], ['apaan', 'baca'], ['cara', 'bacanyaa'], ['bagaimana', 'dibaca'], [], ['bagus', 'kalau', 'mau', 'buka', 'baca', 'balik', 'tampilan', 'awal', 'tulisan', 'awal'], ['mano', 'baca'], ['enggaktau', 'cara', 'bacanya'], ['jelas', 'baca', 'buku'], ['bagus', 'harus', 'baca', 'online', 'buat', 'banyak', 'grtis', 'offline'], ['want', 'membaca', 'buku', 'download', 'this', 'this', 'just', 'seperti', 'social', 'media', 'share', 'what', 'buku', 'that', 'have', 'membaca', 'free', 'buku'], ['apaan', 'dibuka'], ['bagaimana', 'cara', 'bacanya', 'bantu', 'dong'], ['cara', 'bacanya', 'sih'], ['lumayan', 'google', 'mulai', 'buku'], ['cuma', 'judul'], ['baca', 'buku', 'beli', 'dulu'], ['diunduh', 'susah', 'kali', 'unduhan', 'gagal', 'terus'], ['baca', 'buku', 'gratis', 'akhirnya'], ['ulasan', 'doang', 'dikirain', 'ebook'], ['dwnload', 'coba'], ['bingung', 'cara', 'bacanya', 'kecewa', 'download'], ['perjanjian', 'hati'], ['berpikir', 'this', 'buku', 'reader', 'actually', 'only', 'reviewer', 'buku'], ['maaf', 'cara', 'bacanya', 'bagaimana', 'kasih'], ['menarik', 'gunanya'], ['download', 'refensi', 'ulasan', 'bukan', 'menjiplak', 'kadang', 'baca', 'buku', 'lihat', 'rating', 'ulasan', 'disini', 'sungguh', 'membantu'], ['great', 'love', 'throws', 'feels', 'after', 'when', 'membaca', 'buku', 'cute'], ['bukan', 'membaca', 'share', 'rekomendasi', 'buku', 'komenin', 'buku', 'sudah', 'baca', 'membuat', 'waiting', 'list', 'buku', 'dibaca', 'dibeli', 'sangat', 'menarik', 'challenge', 'diri', 'sendiri', 'membaca', 'rekomendasi', 'buku²', 'menarik', 'dibaca', 'pengguna'], ['mantap'], ['good', 'application', 'find', 'what', 'books', 'have', 'membaca'], ['aplikasi', 'berguna', 'banget', 'buat', 'lumayan', 'suka', 'membaca', 'buku', 'aplikasi', 'bukan', 'buat', 'baca', 'buku', 'jadi', 'berekspektasi', 'baca', 'buku', 'lewat', 'aplikasi', 'kalian', 'salah❌', 'aplikasi', 'buat', 'lihat', 'ulasan', 'orang', 'terkait', 'suatu', 'buku', 'lihat', 'rekomendasi', 'buku', 'nyatat', 'buku', 'sudah', 'baca'], ['bagus', 'banget', 'buku', 'bukunya'], ['bukunya', 'dibaca'], ['thans', 'made', 'this'], ['sangat', 'buruk'], ['bagus', 'baca', 'apapun', 'disini'], ['baru', 'langganan', 'lihat', 'bagus', 'aplikasinya'], ['seperti'], ['assalamualaikum', 'beli', 'caranya', 'bagai', 'mana', 'indonesia'], ['interested', 'baca', 'disini', 'sangat', 'interesting', 'terimakasih', 'sangat', 'much'], ['kalau', 'kalian', 'bingung', 'ingin', 'cari', 'buku', 'terus', 'ingin', 'lihat', 'ulasan', 'ulasan', 'buku', 'aplikasi', 'sangat', 'cocok', 'kalian'], ['bagus', 'banget', 'kalau', 'ragu', 'beli', 'buku', 'lihat', 'ulasan', 'pembaca', 'disini', 'terus', 'buat', 'mereview', 'buku', 'jadi', 'ingat', 'buku', 'pernah', 'baca', 'kesan', 'didapat', 'buku', 'tersebut', 'baca', 'challenge', 'tiap', 'tahun', 'ditahun', 'baca', 'buku', 'buat', 'tanya', 'baca', 'bukunya', 'buat', 'mereview', 'buku', 'lihat', 'ulasan', 'orang', 'kalau', 'misal', 'ragu', 'beli', 'bukan', 'baca', 'buku'], ['amazing'], [], [], [], ['good'], ['good'], ['good'], ['good'], ['good'], ['good'], ['good'], ['good'], ['memuaskan'], ['perfect'], ['bagus', 'banget', 'buat', 'cari', 'novel', 'saran', 'kritik', 'novelnya', 'mikir', 'dulu', 'beli🤭👍🏻'], ['terimakasih'], ['sangat', 'bermanfaat', 'terima', 'kasih', 'membuat', 'aplikasi', 'ini🥰'], ['bagus'], ['bagus'], [], ['mantap'], ['aplikasi', 'sangat', 'membantu', 'bingung', 'cari', 'buku', 'kecewa', 'ulasan', 'ulasan', 'buku', 'sangat', 'membantu', 'mempertimbangkan', 'beli', 'buku', 'menurutku', 'buku', 'direview', 'sangat', 'lengkap', 'jadi', 'dijadikan', 'wishlist', 'selanjutnya'], ['aplikasi', 'bukan', 'buat', 'baca', 'penuh', 'bukunya', 'kalau', 'kecewa', 'baca', 'buku', 'jangan', 'seenaknya', 'kasih', 'rating', 'deskripsi', 'jelas'], ['biasakan', 'baca', 'deskripsi', 'bacain', 'ulasan', 'orang', 'dulu', 'mendownload', 'guys', 'banyak', 'banget', 'complain', 'baca', 'aplikasi', 'buat', 'cari', 'ulasan', 'buku', 'jadi', 'bukan', 'buat', 'baca', 'guys', 'budayakan', 'literasi'], ['sangat', 'membantu', 'banget', 'buat', 'pilih', 'buku', 'sekadar', 'ulasan', 'buku', 'dibaca', 'buat', 'marah', 'baca', 'buku', 'aplikasi', 'baik', 'baca', 'deskripsinya', 'teliti'], ['novel', 'lovers', 'recommended', 'guys', 'download', 'this', 'because', 'sangat', 'membantu', 'kalian', 'buku', 'kalian', 'baca', 'menarik', 'suka', 'fiturnya', 'fitur', 'peringatan', 'komennya', 'spoiler', 'seberapa', 'banyak', 'typo', 'bukunya', 'kalau', 'kalian', 'tahu'], ['manis'], ['manis'], ['manis'], ['disini', 'komik', 'miiko'], ['buat', 'ngira', 'aplikasi', 'buat', 'baca', 'buku', 'nyebut', 'dirimu', 'pembaca', 'baca', 'dulu', 'deskripsinya', 'dulu', 'baca', 'dulu', 'deskripsi', 'baru', 'download', 'hedeh'], ['baru', 'beli', 'buku', 'download', 'jadi', 'ulasan', 'orang', 'orang', 'rinci', 'cerita', 'buku', 'beli', 'terbaik'], ['great', 'baca', 'ulasan', 'dulu', 'buat', 'memutuskan', 'beli', 'buku', 'interaksi', 'sama', 'author', 'author', 'kece', 'banyak', 'pembaca', 'lainnya', 'mohon', 'orang', 'orang', 'indonesia', 'bukan', 'aplikasi', 'baca', 'buku', 'aplikasi', 'buat', 'ulasan', 'buku', 'kalian', 'baca', 'sebenarnya', 'seenaknya', 'kasih', 'rating', 'rendah'], ['sangat', 'memberi', 'manfaat', 'beli', 'buku', 'jadi', 'kekurangan', 'kelebihan', 'karya', 'terimakasih'], ['bagus', 'alhamdulillah', 'terima', 'kasih'], ['suka', 'abnget', 'buat', 'bertambah', 'teman', 'berapa', 'buku', 'sudah', 'dibaca', 'nyusun', 'bacaan', 'baca', 'ulasan', 'orang', 'jadi', 'buku', 'buku', 'underrated', 'sebenarnya', 'uwaw', 'buat', 'bilang', 'bagaimana', 'cara', 'baca', 'bukunya', 'aplikasi', 'buat', 'ulasan', 'bukan', 'baca', 'jadi', 'kalau', 'bava', 'buku', 'beli', 'bukunya', 'download', 'ipusnas', 'apapun', 'soalnya', 'buat', 'ulasan', 'buku', 'tenkyu'], ['upgrade', 'mencari', 'buku', 'terus', 'instal', 'ulang', 'sekarang', 'login', 'lewat', 'facebook'], ['istri', 'hamil', 'meminta', 'dientot'], ['keren', 'suka', 'sama', 'fitur', 'membaca', 'challengenyaaa'], ['batuan', 'dong', 'baca', 'buku', 'carnya', 'bagai', 'mana'], ['yoohooo'], ['download', 'aplikasi', 'bingung', 'baca', 'buku', 'mana', 'lihat', 'ulasan', 'orang', 'orang', 'buku', 'buku', 'direkomendasikan'], ['sudah', 'paling', 'benar', 'aplikasi'], ['manis', 'application', 'aplikasi', 'sangat', 'berguna', 'diriku', 'hobi', 'membaca', 'judul', 'bukunya', 'lumayan', 'lengkap', 'baru', 'sadar', 'baca', 'challengenya', 'jadi', 'tambah', 'semangat', 'baca', 'buku'], ['coba', 'dulu', 'deh'], [], ['bacaan', 'banyak', 'suka'], ['dibaca', 'teliti'], ['keren', 'banget'], ['suka', 'sama', 'aplikasinya', 'memang', 'bukan', 'aplikasi', 'buat', 'baca', 'buku', 'mencari', 'buat', 'referensi', 'jadi', 'kalau', 'beli', 'buku', 'mencari', 'sini', 'lihat', 'ratingnya'], ['suka', 'banget', 'chalengge', 'baca', 'buku', 'jadi', 'merasa', 'tertantang', 'buat', 'baca', 'buku', 'sebanyak', 'banyaknya', 'menambah', 'khazanah', 'ilmu', 'bahasa'], ['good', 'ingat', 'buat', 'ulasan', 'buku', 'bukan', 'baca', 'buku'], ['kira', 'ebook', 'ternyata', 'ripiu'], [], ['medsos', 'buat', 'ulasan', 'buku', 'saling', 'rekomendasi', 'buku', 'tandai', 'buku', 'dibaca', 'bukan', 'baca', 'buku'], ['sepertinya', 'banyak', 'salah', 'paham', 'aplikasi', 'padahal', 'aplikasi', 'sangat', 'membantu', 'mencari', 'buku', 'layak'], ['mohon', 'allah', 'bukan', 'buat', 'membaca', 'mbok', 'baca', 'dulu', 'penjelasannya', 'orang', 'bego', 'heran'], ['baru', 'ingat', 'aplikasi', 'berguna', 'begini', 'seingetku', 'dulu', 'pernah', 'pakai', 'aplikasi', 'lewat', 'kukira', 'memang', 'buat', 'baca', 'buku', 'ternyata', 'tidak', 'akhirnya', 'tinggalkan', 'aplikasi', 'nyatanya', 'buat', 'ulasan', 'bantu', 'banget', 'buat', 'konsumtif', 'buku'], ['rekomendasi', 'banget', 'buat', 'nyarik', 'ulasan', 'buku'], ['lets', 'goooo', 'reads'], ['bagus', 'cari', 'rekomendasi', 'buku'], ['guys', 'buat', 'ngira', 'aplikasi', 'buat', 'baca', 'bukunya', 'wrong', 'buat', 'mengasih', 'ulasan', 'buku', 'novel', 'bukan', 'buat', 'baca', 'bukunya', 'baca', 'buku', 'gratis', 'jangan', 'disini'], ['aplikasi', 'layak', 'banget', 'disini', 'lebih', 'banyak', 'belajar', 'kata', 'inggris', 'mengerti', 'pokoknya', 'buat', 'belajar', 'bahasa', 'inggris'], ['maaf', 'sorry', 'banget', 'mengerti', 'bahasa', 'inggris', 'binggung', 'pakainya', 'maaf', 'unstal'], ['kebantu', 'banget', 'buat', 'preview', 'dulu', 'sebelum', 'beli', 'buku'], ['aplikasi', 'bagus', 'banget', 'berkah', 'semuanya'], ['love'], ['memudahkan'], ['jadi', 'mengurangi', 'rasa', 'konsumtifku', 'toko', 'buku', 'membeli', 'buku', 'jadi', 'terbiasa', 'mempertimbangkannya', 'sematang', 'mungkin', 'lihat', 'beberapa', 'referensi', 'thaks'], ['good', 'ulasan'], ['buat', 'ulasan', 'buku', 'recommended', 'banget'], ['bagus', 'bagaimana', 'cara', 'buka', 'buku'], ['suka'], ['seperti', 'begini', 'jadi', 'beli', 'buku', 'incer', 'memang', 'benaran', 'recommended', 'sekarang', 'kalau', 'toko', 'buku', 'tinggal', 'ambil', 'buku', 'terus', 'bayar', 'lebih', 'efektif', 'efisien'], ['good'], ['good'], ['mantull', 'lah', 'salahh', 'instal'], ['👍👍👍👍'], ['berguna', 'sekali'], ['anjir', 'mengakak', 'sampai', 'bulan', 'aplikasi', 'kurleb', 'kayak', 'imdb', 'kalau', 'suka', 'menonton', 'film', 'isinya', 'sinopsis', 'blurb', 'rate', 'reviews', 'rekomendasi', 'serba', 'serbinya', 'bukan', 'penyedia', 'film', 'kalau', 'kasusnya', 'disini', 'penyedia', 'soft', 'file', 'buku', 'awkwkwkwkwk'], ['great'], ['sangat', 'helpful', 'find', 'information', 'books', 'that', 'curious', 'want'], ['suka', 'tantangan', 'membacanya', 'memudahkan', 'mengetahui', 'penilaian', 'buku', 'membeli', 'terimakasih', 'goodreads'], ['ampun', 'sini', 'banyak', 'ngegas', 'padahal', 'khusus', 'buat', 'memberi', 'ulasan', 'lihat', 'ulasan', 'buku', 'alias', 'penilaian', 'mengenai', 'sebuah', 'buku', 'buat', 'baca', 'buku'], ['bagaimana', 'mengakak', 'banyak', 'tahu', 'kalau', 'cuma', 'aplikasi', 'ulasan', 'buku', 'novel', 'kurang', 'lebih', 'lihat', 'orang', 'ingat', 'diriku', 'dulu', 'sama', 'kalau', 'baca', 'buku', 'gratis', 'ipusnas'], ['bagus', 'aplikasi', 'bagus', 'buat', 'baca', 'maraton', 'jadi', 'lebih', 'konsisten', 'baca', 'buku', 'jadi', 'lebih', 'sedikit', 'suka', 'aplikasi'], ['mencoba', 'iseng', 'kasih', 'bintang'], ['direkomendasikan'], ['sangat', 'membantu', 'mencari', 'referensi', 'buku', 'bagus'], ['bantuan', 'bisamembantu'], ['aplikasi', 'buku', 'ulasan', 'terbaik'], ['suka'], ['good'], ['good'], ['good'], ['good'], ['good'], [], ['berguna', 'benar', 'dipakek', 'mencari', 'buku', 'buku', 'bagus', 'mengerti', 'aplikasi', 'memang', 'bukan', 'baca', 'gratis', 'lebih', 'membantu', 'mencari', 'buku', 'sesuai', 'selera'], ['semoga', 'berguna', 'memberi', 'tambahan', 'wawsan'], ['aplikasi', 'berguna', 'orang', 'orang', 'memang', 'suka', 'baca', 'buku', 'cari', 'rekomendasi', 'buku', 'bagus', 'aplikasi', 'sangat', 'membantu', 'fitur', \"'want\", 'membaca', 'membuat', 'mudah', 'mengingat', 'buku', 'baca', 'kedepannya', 'disini', 'mencatat', 'progress', 'bacaan', 'orang', 'tahu', 'aplikasi', 'hukan', 'baca', 'buku', 'download', 'buku', 'gratis', 'aplikasi', 'berisi', 'ulasan', 'buku', 'rekomendasi', 'buku'], ['bagus', 'buat', 'cari', 'buku', 'terbaik', 'penjual', 'direkomendasikan'], ['manis'], ['terbaik', 'ever', 'indonesia', 'budayakan', 'membaca', 'dibantu', 'apps', 'biar', 'kalian', 'ulasan', 'buku', 'kalian', 'beli'], ['netizen', 'indonesia', 'semua', 'bukannya', 'baca', 'deskripsi', 'dulu', 'sudah', 'aplikasi', 'buat', 'ulasan', 'buku', 'bukan', 'buat', 'baca', 'download', 'ebook'], ['terimakasih', 'goodreads'], ['bermanfaat', 'sekali', 'lihat', 'ulasan', 'rekomendasi', 'buku', 'temen²', 'misal', 'bingung', 'beli', 'buku', 'toko', 'buku', 'terimakasih', 'godreads'], ['beli', 'buku', 'cari', 'reviewnya', 'goodreads', 'dulu', 'bagus', 'ulasan', 'buku', 'disini'], ['hari', 'begini', 'goodreads'], ['guddddddddddd'], ['orang', 'orang', 'tahu', 'aplikasi', 'bukan', 'membac', 'memcari', 'buku', 'mengetahua', 'komentar', 'orang', 'buku', 'cari'], ['sangat', 'manis'], [], ['this', 'sangat', 'helpfull', 'terimakasih'], ['aplikasi', 'bagus', 'begini', 'tahu', 'bagaimana', 'novelnya', 'memutuskan', 'membelinya'], ['cakep'], ['manis', 'indonesian', 'terimakasih'], ['suka', 'aplikasi', 'tanya', 'opsi', 'mengubah', 'bahasa', 'bahasa', 'inggris', 'bahasa', 'indonesia', 'kalau', 'kasih', 'memang', 'sedikit', 'berbahasa', 'inggris', 'terima', 'kasih'], ['great', 'please', 'pakai', 'more', 'great', 'smooth', 'better', 'experience'], ['sebelumnya', 'memberitahu', 'aplikasi', 'ulasan', 'mengulas', 'suatu', 'buku', 'kalau', 'memang', 'berniat', 'membaca', 'buku', 'secaea', 'gratis', 'lewat', 'aplikasi', 'coba', 'aplikasi', 'legal', 'pemerintah', 'ijak', 'ataupun', 'ipusnas', 'terima', 'kasih'], ['heran', 'sekaligus', 'malu', 'sama', 'orang', 'indonesia', 'aplikasi', 'keren', 'begini', 'dibilang', 'buruk', 'sama', 'mengeluarkan', 'kata', 'kata', 'kebun', 'binatang', 'padahal', 'deskripsi', 'sudah', 'tertulis', 'jelas', 'buat', 'ulasan', 'bukan', 'buat', 'baca', 'gratis', 'kalau', 'baca', 'gratis', 'wattpad', 'sana', 'budayakan', 'membaca', 'goodreads', 'this', 'good', 'terimakasih'], ['seru', 'buat', 'mencari', 'referensi', 'buku', 'cuma', 'orang', 'bego', 'kali', 'ngira', 'buat', 'baca', 'buku', 'online', 'terus', 'dislike', 'hmmmm'], ['good', 'apps'], ['hadeh', 'kalau', 'baca', 'buku', 'gratis', 'perpustakaan', 'sono', 'heran', 'memberi', 'rating', 'jelek', 'alesannya', 'dibaca', 'bukunya', 'memang', 'goodreads', 'bukan', 'tempat', 'buat', 'baca', 'ebook', 'gratis'], ['arsitekture'], ['dear', 'kamu', 'sering', 'baca', 'buku'], ['bagus', 'perluck', 'perpustakaan', 'membuat', 'jurnal', 'buku', 'dengan', 'jadi', 'gampil', 'gampil', 'gampiiiiiiil'], ['keren', 'banget'], ['baik'], ['goodreads', 'suka', 'tampilan', 'baru', 'aplikasi', 'sekarang', 'buka', 'tempat', 'kalau', 'dulu', 'buka', 'pokoknya', 'mantap', 'cuma', 'fitur', 'otomatis', 'otomatis', 'share', 'akun', 'facebook', 'apabila', 'mulai', 'membaca', 'buku', 'progres', 'membaca', 'meberikan', 'rating'], ['mantap', 'tampilan', 'kurang', 'paham', 'bagaimana', 'berbayar'], ['membaca', 'sebagian', 'ulasan', 'disini', 'memberi', 'bukti', 'orang', 'indonesia', 'memang', 'kurang', 'literasi', 'bahkan', 'aplikasi', 'jelas', 'ulasan', 'malah', 'dikatakan', 'baca', 'buku', 'gratis', 'halo', 'dear', 'pakai', 'aplikasinya', 'baca', 'dulu😉', 'suka', 'aplikasi', 'terutama', 'fitur', 'baca', 'challenge', 'fitur', 'tersebut', 'membuat', 'jadi', 'semakin', 'semangat', 'membaca', 'fitur', 'bookshelf', 'jadi', 'membuat', 'buku', 'pribadi', 'disini', 'keren', 'kedepannya', 'perbaiki', 'tampilan', 'mobile', 'lebih', 'friendly'], ['bagus', 'buat', 'waktu', 'luang'], ['lumayan', 'lihat', 'bagus'], ['enggaktau', 'keren'], ['keren', 'jadi', 'tahu', 'mana', 'buku', 'bagus', 'jelek'], ['dear', 'sayang', 'sayangku', 'bilang', 'kasih', 'rate', 'jelek', 'baca', 'dulu', 'aplikasi', 'jangan', 'malas', 'membaca', 'cinta', 'goodreads', 'aplikasi', 'website', 'ulasan', 'buku', 'novel', 'ataupun', 'baru', 'dipublish', 'dijadikan', 'referensi', 'membeli', 'membaca', 'bukan', 'aplikasi', 'membaca', 'gratis', 'tpad'], ['terbaik'], ['buat', 'kalian', 'bilang', 'aplikasi', 'jelek', 'helow', 'buat', 'ulasan', 'buku', 'bukan', 'baca', 'buku', 'capslock', 'sama', 'marah', 'terimakasih'], ['buat', 'bilang', 'aplikasi', 'jelek', 'pahami', 'dulu', 'aplikasi', 'apaan', 'instal', 'aplikasi', 'memberi', 'melihat', 'ulasan', 'bukan', 'aplikasi', 'membaca', 'novel', 'gratis'], ['orang', 'tolol', 'pakai', 'memudahkan', 'goodreads', 'good', 'apps'], ['terlalu', 'banyak', 'orang', 'goblok', 'komentar', 'dibawah', 'khas', 'konsumen', 'indonesia', 'pinginnya', 'gratisan', 'aplikasi', 'buat', 'orang', 'baca', 'buku', 'dunia', 'nyata', 'baru', 'memberi', 'ulasan', 'aplikasi', 'hasilnya', 'membantu', 'orang', 'lihat', 'rating', 'komentar', 'siapa', 'tahu', 'buku', 'ratingnya', 'bagus', 'ternyata', 'memang', 'buku', 'bagus', 'modar', 'sana', 'otak', 'gratisan', 'mencela', 'komentar', 'pedas', 'mengkritik', 'asal', 'mangap', 'baca', 'penjelasan', 'aplikasi', 'apa', 'sekolah', 'buat', 'baca', 'bokep', 'punya', 'internet', 'otak', 'digunain', 'kenapa', 'tolol'], ['bagaimana', 'cara', 'bacanya'], ['buat', 'menyesal', 'download', 'bilang', 'jelek', 'dear', 'ulasan', 'buku', 'membantu', 'kalian', 'kalau', 'beli', 'buku', 'just', 'lihat', 'buku', 'baru', 'terbit', 'bukan', 'baca', 'buku', 'gratis', 'kalau', 'download', 'mohon', 'dilihat', 'dulu', 'rinciannya', 'jangan', 'asal', 'mencela'], ['manis'], ['sering', 'susah', 'menggunakanvaplikasi'], ['didownload'], ['love'], ['excelent', 'market', 'affiliation', 'with', 'buku', 'store', 'online', 'shop'], ['much'], ['bagus'], ['sangat', 'bermanfaat'], ['that', 'good', 'application', 'terimakasih'], ['ممتاز'], ['keren'], [], ['aplikasi', 'sangat', 'bagus👍'], ['good'], ['suka', 'sekali', 'sangat', 'membantu', 'terutama', 'pelajar', 'pecinta', 'buku', 'membaca', 'suka', 'dikasih', 'tugas', 'laporan', 'literasi', 'semester', 'abreg', 'terasa', 'temu', 'sumber', 'ditengah', 'gurun', 'tandus', 'tidak', 'ribet', 'pusing', 'mencari', 'link', 'download', 'buku', 'pinjam', 'perpustakaan', 'beli', 'pokoknya', 'terimakasih', 'suka', 'kamu', 'maksudnya', 'aplikasi', 'bukan', 'kamu', 'bawaperasaan', 'paansii'], ['thaks', 'this', 'bantu', 'me😍😍😍'], ['goood'], ['beramal', 'lewat', 'ilmu'], ['semoga', 'bermanfaat'], ['maybe', 'need', 'more', 'support', 'indonesian', 'language', 'books'], ['good', 'good', 'good'], ['😊😀😀😀😀😁'], ['good', 'apps'], ['bagus'], ['suka'], ['sangat', 'membantu', 'pecinta', 'buku'], ['alhamdulillah'], ['giod'], ['semoga', 'peminatnya', 'semakin', 'banyak'], ['terimakasih', 'this', 'semoga', 'lebih', 'cepat', 'update', 'about', 'books'], ['bagus', 'melihat', 'ulasan'], ['lumayan', 'buat', 'riview'], [], ['seperti'], ['tempat', 'ulasan', 'buku', 'lihat', 'penilaian', 'orang', 'suatu', 'buku', 'bukan', 'tempat', 'baca', 'buku', 'bahkan', 'tulisan'], ['rasa', 'bagus', 'sekali', 'aplikasi', 'memudahkan', 'memba', 'novel', 'jadi', 'perlu', 'repot', 'keluar', 'rumah', 'membeli', 'buku', 'karena', 'disini', 'terdapat', 'semuanya'], ['siiip']]\n"
          ]
        }
      ]
    },
    {
      "cell_type": "code",
      "source": [
        "factory = StemmerFactory()\n",
        "ind_stemmer = factory.create_stemmer()\n",
        "def stemmer(line):\n",
        "    temp = list()\n",
        "    for word in line:\n",
        "      #if(word not in white_list):\n",
        "        word = ind_stemmer.stem(word)\n",
        "      #if(len(word)>3):\n",
        "        temp.append(word)\n",
        "    return temp\n",
        "\n",
        "kata_dasar = [stemmer (line) for line in ulasan_formal]\n",
        "print(kata_dasar)"
      ],
      "metadata": {
        "colab": {
          "base_uri": "https://localhost:8080/"
        },
        "id": "b1KWcFCPgXxq",
        "outputId": "abaf86a0-e92f-4ea8-9fb3-39f5d57909b5"
      },
      "execution_count": 18,
      "outputs": [
        {
          "output_type": "stream",
          "name": "stdout",
          "text": [
            "[['error'], ['tulis', 'page', 'unavailable', 'ganti', 'profil', 'refresh', 'akun', 'diweb', 'bintang', 'satu'], ['usernya', 'banyak', 'toxic'], ['buka', 'aplikasi', 'aplikasi', 'selalu', 'keluar', 'sendiri', 'malah', 'selalu', 'keluar', 'sedang', 'cari', 'buku'], ['jujur', 'aplikasi', 'ribet', 'banget', 'seperti', 'bukan', 'aplikasi', 'baca', 'delete', 'this', 'aplication'], ['seringkali', 'buku', 'baca'], ['punya', 'beda', 'lainn', 'padahal', 'punya', 'bukan', 'pick', ''], ['aplikasi', 'praktis'], ['aplikasi'], ['duga', 'kumpul', 'buku', 'sini', 'nyata', 'cuma', 'judul'], ['banyak', 'kasih', 'spoiler'], ['community', 'reviews'], ['sesal', 'donlod', 'buka', 'cuma', 'judul', 'buka', 'baca'], ['cant', 'continue', 'login', 'with', 'facebook', 'account', 'when', 'want', 'login', 'email', 'also'], ['digunain', 'cuma', 'reload', 'terus', 'padahal', 'sudah', 'update', 'versi', 'baru', 'signal', 'bagus'], ['hiiit', 'force', 'close'], ['jelek', 'baca'], ['masuk', 'mental', 'mental', 'mulu'], ['cara', 'baca', 'bagaimana', 'daritadi', 'ngotak', 'ngatik', 'terus'], ['goodreads', 'does', 'have', 'look', 'seperti', 'version', 'though', 'version', 'much', 'neater', 'aesthetic', 'segar', 'because', 'updated', 'apply', 'sini'], ['bingung'], ['masuk', 'pakai', 'akun', 'bantu'], ['bangsat', 'kira', 'buat', 'baca', 'tolol'], ['baca'], ['sumpah'], ['tidakbisa', 'daftar', 'gaguna'], ['alias', 'bohong'], ['guna', 'install'], ['bagaimana', 'baca', 'buku'], ['kasih', 'bintang', 'saku', 'karena', 'tidakbisa', 'daftar', 'kasih', 'passwordnya', 'sudah', 'benar', 'salah', 'lanjut', 'lewat', 'facebook', 'baik'], ['annjir', 'susah', 'masuk', 'akun', 'sekarang'], ['baca', 'sini'], ['login'], ['aplikasi', 'jelas'], ['cara', 'baca'], ['login'], ['ribet'], ['anjir'], ['buat', 'pikir', 'baca', 'buku', 'novel', 'jangan', 'downlod', 'bukan', 'buat', 'baca', 'buku'], ['salah', 'copot', 'sorry', 'kira', 'buat', 'baca', 'pakai', 'aplikasi', 'aplikasi', 'apa', 'guna', 'buat'], ['baik', 'sangat', 'susah', 'login', 'kezel'], ['sudah', 'lama', 'pakai', 'aplikasi', 'suka', 'buat', 'cari', 'rating', 'update', 'progres', 'baca', 'masa', 'buka', 'buku', 'sudah', 'baca', 'baca', 'challenge', 'tiba', 'tiba', 'keluar', 'sendiri', 'coba', 'hapus', 'cache', 'tetap', 'keluar', 'aplikasi'], ['bad'], ['baca', 'buku', 'cuma', 'lihat', 'gambar', 'cuma', 'wakau', 'punya', 'comicnya'], ['maaf', 'belum', 'kenapa', 'login', 'kata', 'hubung', 'internet', 'buka', 'aplikasi', 'hubung', 'internet', 'maksimal', 'mohon', 'tindak', 'lanjut'], ['kalau', 'kasih', 'bintang', 'soal', 'enak', 'banget', 'buat', 'susah', 'cari', 'buku', 'pusing', 'buat', 'baca', 'lihat', 'youtube', 'ngebantui', 'subtitlenya', 'sesal', 'minta', 'lebih', 'erti', 'maka', 'soal', 'susah', 'bingung', 'baca', 'jadi', 'lebih', 'mudah', 'pakai', 'bukan', 'rasa', 'orang', 'ras', 'terima', 'kasih'], ['really', 'really'], [], ['aplikasi'], ['nipu'], ['bagaimana', 'cara', 'baca', 'sulit', 'uinstal', 'dasar', 'kontol'], ['bagaimana', 'cara', 'buka', 'baca'], ['sulit'], ['kasih', 'ulas', 'dulu', 'cara', 'baca', 'buku', 'bagaimana', 'buka'], ['bagus'], ['jelek', 'sambung'], ['bagaimana', 'baca', 'mohon', 'bantu'], ['ngentot', 'aplikasi', 'vuman', 'buat', 'lihat', 'ulas', 'cuma'], ['kira', 'baca', 'lihat', 'google', 'baca', 'gratis', 'rekomendasi'], ['erti', 'serch', 'buka'], ['buat', 'login'], ['entah'], ['love', 'this', 'apps', 'because', 'helps', 'track', 'baca', 'progress', 'barcode', 'scanner', 'working', 'difficulties', 'switching', 'another', 'version', 'buku', 'without', 'scanner'], ['jelas'], ['enggakjelas'], ['love', 'this', 'scanner', 'working'], ['kalau', 'buku', 'bagaimana'], ['sampah', 'sudah', 'habis', 'banyak', 'quota', 'tidakbisa', 'baca', 'buku'], ['lama', 'banget', 'download'], ['jelek', 'sangat', 'bacaanya', 'palsu'], ['tipu', 'enggak'], ['dear', 'goodreads', 'bagaimana', 'cara', 'baca', 'pilih', 'langsung', 'keluar', 'teks', 'baca', 'buku'], ['does', 'buku', 'scanner', 'work'], ['suka'], ['bagaimana', 'cara', 'baca', 'buku', 'mohon', 'beri', 'pandu'], ['kontol'], ['kontol'], ['passwordnya', 'terima'], ['sesal', 'download'], ['baca', 'buku'], ['kayak', 'buat', 'kesal', 'download'], ['ribet'], ['ribet'], ['cara', 'baca', 'enggakjelas'], ['bagaimana', 'cara', 'baca', 'ribet', 'ya', 'huuufffft'], ['sebelllll'], ['erti', 'cara', 'memnggunakan', 'muater', 'putar', 'cari', 'judul', 'buku', 'buka', 'hanya', 'rfernsi', 'bagaimana', 'baca', 'buku'], ['erti', 'guna', 'aplikasi', 'cara', 'baca', 'buku', 'aplikasi', 'putar', 'putar', 'tadi', 'menu'], ['tidakbisa', 'baca'], ['susah', 'login', 'malah', 'baca', 'kecewa'], ['kasih', 'cara', 'baca', 'buku', 'aplikasi', 'bagaimana'], ['cara', 'baca', 'pakai', 'aplikasi', 'bagaimana'], ['cuma', 'buat', 'rekomendasi', 'buku', 'cuma'], ['cara', 'login', 'bagaimana', 'anzeng'], ['thought', 'this', 'application', 'baca'], ['entah', 'gimana', 'cara', 'baca', 'bingung'], ['login'], ['tahu', 'this', 'lol'], ['login', 'error', 'amazon', 'gmail', 'errorrrrrrr'], ['aplikasi', 'jelas', 'baca', 'buku'], ['buruk'], ['aplikasi', 'buang', 'waktu', 'dowload', 'tetap', 'infb', 'salah', 'salah', 'terus', 'kata', 'pasword', 'email', 'sambung', 'rugi', 'dowload'], ['aplikasi', 'juancok'], ['gerti', 'tunjuk'], ['hate'], ['cara', 'baca', 'bagaimana'], ['bantu', 'bagaimana', 'cara', 'baca', 'buku', 'youtube', 'tutorial'], ['selalu', 'henti', 'mohon', 'jelas'], ['jadi', 'biar', 'baca', 'bagaimana', 'download', 'alplikasi', 'begitu', 'biar', 'baca', 'komentar', 'tmpat', 'baca', 'gratis', 'bagaimana', 'biar', 'baca'], ['aplikasi', 'jelek'], ['jelek'], ['bagaimana', 'cara', 'baca', 'buku'], ['bagaimana', 'cara', 'baca'], ['aplikasi', 'mana', 'didownload', 'baca', 'dasar', 'jelas'], ['bagaimana', 'cara', 'masuk', 'selalu', 'email', 'salah'], ['kecewa', 'tipu'], ['aplikasi', 'kimak', 'ngapain', 'pun', 'aplikasi', 'otak'], ['aplikasi', 'bagus', 'banget', 'seperti', 'tahi'], ['apa', 'novel', 'baca', 'sesal', 'downlod', 'ini'], ['baca', 'sesal', 'download', 'hapus', 'jelek'], ['macam', 'anjing', 'masuk'], ['apa', 'anjg'], ['free', 'baca', 'buku', 'deleted'], ['capek', 'aing', 'masuk', 'masuk', 'capeeeeee'], ['baik', 'aplikasi', 'sign'], ['cara', 'baca', 'bagaimana', 'ribet'], ['akmj'], ['cant', 'login'], ['aplikasi', 'bangsat', 'terus'], ['login', 'pakai', 'banyak', 'polah', 'sederhana', 'usah', 'buat', 'repot', 'download'], ['aplikasi', 'jelek', 'entah', 'bagaimana', 'cara', 'baca'], ['erti', 'cara', 'baca', 'beri', 'tahu', 'cara', 'baca', 'baik', 'rating', 'jadi', 'bintang', 'terima', 'kasih'], ['login'], ['cara', 'baca'], ['tahu', 'used', 'this'], ['aplikasi', 'abisin', 'kuota', 'masuk', 'email', 'sesal', 'download'], ['aplikasi', 'habis', 'waktu'], ['pikir', 'this', 'baca', 'buku', 'this', 'sell', 'buku'], ['anjir'], ['guna', 'aplikasi', 'baca'], ['beli', 'buku', 'amazon'], ['cara', 'baca', 'bagaimana'], ['cara', 'baca', 'bagaimana'], ['baca', 'buku', 'bohongg', 'senyel', 'download'], ['tele', 'tele'], ['lengkap', 'novel'], ['aplikasi', 'sampah'], ['cara', 'baca', 'bagaimana', 'jelas'], ['download', 'masuk', 'nyata', 'mbingungkan', 'aktif', 'member', 'masih', 'baca', 'aplikasi', 'buang', 'kuota', 'nih', 'capek', 'ngeseliiiiiiinnnnnnnn'], ['baca', 'this', 'buku', 'baca', 'miko', 'cant'], ['suka', 'aplikasi', 'karena', 'gemar', 'fanfaction', 'prillvers'], ['aplikasi', 'enggakjelas'], ['this', 'cant', 'baca', 'buku', 'sana', 'hate', 'this', 'much'], ['susah', 'buat', 'baca', 'buku', 'jelassss'], ['susah', 'buat', 'daftar', 'tidak'], ['tidak', 'erti'], ['scan', 'buku'], ['user', 'usernya', 'selalu', 'guna', 'bahasa', 'kasar', 'says', 'jadi', 'nyaman'], ['buka'], ['enggakjelas', 'anjng', 'cara', 'baca'], ['cara', 'nyed'], ['baru', 'sedikt', 'sulit'], ['duga', 'buku', 'gratis', 'nyata', 'beli'], ['where', 'information', 'about', 'genre', 'award'], ['aplikasi', 'jelas'], ['bagaimana', 'cara', 'pakai', 'buat', 'bingung'], ['damn'], ['step', 'step', 'terlalu', 'susah', 'putar', 'putar', 'selalu', 'kosong', 'tengah', 'entah', 'memang', 'aplikasi', 'kurang'], ['bagaimana', 'cara', 'baca', 'buku', 'huuu', 'sebal', 'jelek', 'usah', 'download'], ['pasang'], ['tidak', 'buka', 'aplikasi', 'padahal', 'sudah', 'beli', 'paket'], ['tidakbisa', 'download'], ['bukan', 'tempat', 'buat', 'baca', 'novel'], ['apa', 'baca'], ['cara', 'bacanyaa'], ['bagaimana', 'baca'], [], ['bagus', 'kalau', 'mau', 'buka', 'baca', 'balik', 'tampil', 'awal', 'tulis', 'awal'], ['mano', 'baca'], ['enggaktau', 'cara', 'baca'], ['jelas', 'baca', 'buku'], ['bagus', 'harus', 'baca', 'online', 'buat', 'banyak', 'grtis', 'offline'], ['want', 'baca', 'buku', 'download', 'this', 'this', 'just', 'seperti', 'social', 'media', 'share', 'what', 'buku', 'that', 'have', 'baca', 'free', 'buku'], ['apa', 'buka'], ['bagaimana', 'cara', 'baca', 'bantu', 'dong'], ['cara', 'baca', 'sih'], ['lumayan', 'google', 'mulai', 'buku'], ['cuma', 'judul'], ['baca', 'buku', 'beli', 'dulu'], ['unduh', 'susah', 'kali', 'unduh', 'gagal', 'terus'], ['baca', 'buku', 'gratis', 'akhir'], ['ulas', 'doang', 'dikirain', 'ebook'], ['dwnload', 'coba'], ['bingung', 'cara', 'baca', 'kecewa', 'download'], ['janji', 'hati'], ['pikir', 'this', 'buku', 'reader', 'actually', 'only', 'reviewer', 'buku'], ['maaf', 'cara', 'baca', 'bagaimana', 'kasih'], ['tarik', 'guna'], ['download', 'refensi', 'ulas', 'bukan', 'jiplak', 'kadang', 'baca', 'buku', 'lihat', 'rating', 'ulas', 'sini', 'sungguh', 'bantu'], ['great', 'love', 'throws', 'feels', 'after', 'when', 'baca', 'buku', 'cute'], ['bukan', 'baca', 'share', 'rekomendasi', 'buku', 'komenin', 'buku', 'sudah', 'baca', 'buat', 'waiting', 'list', 'buku', 'baca', 'beli', 'sangat', 'tarik', 'challenge', 'diri', 'sendiri', 'baca', 'rekomendasi', 'buku', 'tarik', 'baca', 'guna'], ['mantap'], ['good', 'application', 'find', 'what', 'books', 'have', 'baca'], ['aplikasi', 'guna', 'banget', 'buat', 'lumayan', 'suka', 'baca', 'buku', 'aplikasi', 'bukan', 'buat', 'baca', 'buku', 'jadi', 'berekspektasi', 'baca', 'buku', 'lewat', 'aplikasi', 'kalian', 'salah', 'aplikasi', 'buat', 'lihat', 'ulas', 'orang', 'kait', 'suatu', 'buku', 'lihat', 'rekomendasi', 'buku', 'nyatat', 'buku', 'sudah', 'baca'], ['bagus', 'banget', 'buku', 'buku'], ['buku', 'baca'], ['thans', 'made', 'this'], ['sangat', 'buruk'], ['bagus', 'baca', 'apa', 'sini'], ['baru', 'langgan', 'lihat', 'bagus', 'aplikasi'], ['seperti'], ['assalamualaikum', 'beli', 'cara', 'bagai', 'mana', 'indonesia'], ['interested', 'baca', 'sini', 'sangat', 'interesting', 'terimakasih', 'sangat', 'much'], ['kalau', 'kalian', 'bingung', 'ingin', 'cari', 'buku', 'terus', 'ingin', 'lihat', 'ulas', 'ulas', 'buku', 'aplikasi', 'sangat', 'cocok', 'kalian'], ['bagus', 'banget', 'kalau', 'ragu', 'beli', 'buku', 'lihat', 'ulas', 'baca', 'sini', 'terus', 'buat', 'mereview', 'buku', 'jadi', 'ingat', 'buku', 'pernah', 'baca', 'kesan', 'dapat', 'buku', 'sebut', 'baca', 'challenge', 'tiap', 'tahun', 'tahun', 'baca', 'buku', 'buat', 'tanya', 'baca', 'buku', 'buat', 'mereview', 'buku', 'lihat', 'ulas', 'orang', 'kalau', 'misal', 'ragu', 'beli', 'bukan', 'baca', 'buku'], ['amazing'], [], [], [], ['good'], ['good'], ['good'], ['good'], ['good'], ['good'], ['good'], ['good'], ['muas'], ['perfect'], ['bagus', 'banget', 'buat', 'cari', 'novel', 'saran', 'kritik', 'novel', 'mikir', 'dulu', 'beli'], ['terimakasih'], ['sangat', 'manfaat', 'terima', 'kasih', 'buat', 'aplikasi', 'ini'], ['bagus'], ['bagus'], [], ['mantap'], ['aplikasi', 'sangat', 'bantu', 'bingung', 'cari', 'buku', 'kecewa', 'ulas', 'ulas', 'buku', 'sangat', 'bantu', 'timbang', 'beli', 'buku', 'turut', 'buku', 'direview', 'sangat', 'lengkap', 'jadi', 'jadi', 'wishlist', 'lanjut'], ['aplikasi', 'bukan', 'buat', 'baca', 'penuh', 'buku', 'kalau', 'kecewa', 'baca', 'buku', 'jangan', 'enak', 'kasih', 'rating', 'deskripsi', 'jelas'], ['biasa', 'baca', 'deskripsi', 'bacain', 'ulas', 'orang', 'dulu', 'mendownload', 'guys', 'banyak', 'banget', 'complain', 'baca', 'aplikasi', 'buat', 'cari', 'ulas', 'buku', 'jadi', 'bukan', 'buat', 'baca', 'guys', 'budaya', 'literasi'], ['sangat', 'bantu', 'banget', 'buat', 'pilih', 'buku', 'sekadar', 'ulas', 'buku', 'baca', 'buat', 'marah', 'baca', 'buku', 'aplikasi', 'baik', 'baca', 'deskripsi', 'teliti'], ['novel', 'lovers', 'recommended', 'guys', 'download', 'this', 'because', 'sangat', 'bantu', 'kalian', 'buku', 'kalian', 'baca', 'tarik', 'suka', 'fiturnya', 'fitur', 'ingat', 'komennya', 'spoiler', 'berapa', 'banyak', 'typo', 'buku', 'kalau', 'kalian', 'tahu'], ['manis'], ['manis'], ['manis'], ['sini', 'komik', 'miiko'], ['buat', 'ngira', 'aplikasi', 'buat', 'baca', 'buku', 'nyebut', 'diri', 'baca', 'baca', 'dulu', 'deskripsi', 'dulu', 'baca', 'dulu', 'deskripsi', 'baru', 'download', 'hedeh'], ['baru', 'beli', 'buku', 'download', 'jadi', 'ulas', 'orang', 'orang', 'rinci', 'cerita', 'buku', 'beli', 'baik'], ['great', 'baca', 'ulas', 'dulu', 'buat', 'putus', 'beli', 'buku', 'interaksi', 'sama', 'author', 'author', 'kece', 'banyak', 'baca', 'lain', 'mohon', 'orang', 'orang', 'indonesia', 'bukan', 'aplikasi', 'baca', 'buku', 'aplikasi', 'buat', 'ulas', 'buku', 'kalian', 'baca', 'benar', 'enak', 'kasih', 'rating', 'rendah'], ['sangat', 'beri', 'manfaat', 'beli', 'buku', 'jadi', 'kurang', 'lebih', 'karya', 'terimakasih'], ['bagus', 'alhamdulillah', 'terima', 'kasih'], ['suka', 'abnget', 'buat', 'tambah', 'teman', 'berapa', 'buku', 'sudah', 'baca', 'nyusun', 'baca', 'baca', 'ulas', 'orang', 'jadi', 'buku', 'buku', 'underrated', 'benar', 'uwaw', 'buat', 'bilang', 'bagaimana', 'cara', 'baca', 'buku', 'aplikasi', 'buat', 'ulas', 'bukan', 'baca', 'jadi', 'kalau', 'bava', 'buku', 'beli', 'buku', 'download', 'ipusnas', 'apa', 'soal', 'buat', 'ulas', 'buku', 'tenkyu'], ['upgrade', 'cari', 'buku', 'terus', 'instal', 'ulang', 'sekarang', 'login', 'lewat', 'facebook'], ['istri', 'hamil', 'minta', 'entot'], ['keren', 'suka', 'sama', 'fitur', 'baca', 'challengenyaaa'], ['batu', 'dong', 'baca', 'buku', 'carnya', 'bagai', 'mana'], ['yoohooo'], ['download', 'aplikasi', 'bingung', 'baca', 'buku', 'mana', 'lihat', 'ulas', 'orang', 'orang', 'buku', 'buku', 'rekomendasi'], ['sudah', 'paling', 'benar', 'aplikasi'], ['manis', 'application', 'aplikasi', 'sangat', 'guna', 'diri', 'hobi', 'baca', 'judul', 'buku', 'lumayan', 'lengkap', 'baru', 'sadar', 'baca', 'challengenya', 'jadi', 'tambah', 'semangat', 'baca', 'buku'], ['coba', 'dulu', 'deh'], [], ['baca', 'banyak', 'suka'], ['baca', 'teliti'], ['keren', 'banget'], ['suka', 'sama', 'aplikasi', 'memang', 'bukan', 'aplikasi', 'buat', 'baca', 'buku', 'cari', 'buat', 'referensi', 'jadi', 'kalau', 'beli', 'buku', 'cari', 'sini', 'lihat', 'ratingnya'], ['suka', 'banget', 'chalengge', 'baca', 'buku', 'jadi', 'rasa', 'tantang', 'buat', 'baca', 'buku', 'banyak', 'banyak', 'tambah', 'khazanah', 'ilmu', 'bahasa'], ['good', 'ingat', 'buat', 'ulas', 'buku', 'bukan', 'baca', 'buku'], ['kira', 'ebook', 'nyata', 'ripiu'], [], ['medsos', 'buat', 'ulas', 'buku', 'saling', 'rekomendasi', 'buku', 'tanda', 'buku', 'baca', 'bukan', 'baca', 'buku'], ['seperti', 'banyak', 'salah', 'paham', 'aplikasi', 'padahal', 'aplikasi', 'sangat', 'bantu', 'cari', 'buku', 'layak'], ['mohon', 'allah', 'bukan', 'buat', 'baca', 'mbok', 'baca', 'dulu', 'jelas', 'orang', 'bego', 'heran'], ['baru', 'ingat', 'aplikasi', 'guna', 'begini', 'seingetku', 'dulu', 'pernah', 'pakai', 'aplikasi', 'lewat', 'kira', 'memang', 'buat', 'baca', 'buku', 'nyata', 'tidak', 'akhir', 'tinggal', 'aplikasi', 'nyata', 'buat', 'ulas', 'bantu', 'banget', 'buat', 'konsumtif', 'buku'], ['rekomendasi', 'banget', 'buat', 'nyarik', 'ulas', 'buku'], ['lets', 'goooo', 'reads'], ['bagus', 'cari', 'rekomendasi', 'buku'], ['guys', 'buat', 'ngira', 'aplikasi', 'buat', 'baca', 'buku', 'wrong', 'buat', 'asih', 'ulas', 'buku', 'novel', 'bukan', 'buat', 'baca', 'buku', 'baca', 'buku', 'gratis', 'jangan', 'sini'], ['aplikasi', 'layak', 'banget', 'sini', 'lebih', 'banyak', 'ajar', 'kata', 'inggris', 'erti', 'pokok', 'buat', 'ajar', 'bahasa', 'inggris'], ['maaf', 'sorry', 'banget', 'erti', 'bahasa', 'inggris', 'binggung', 'pakai', 'maaf', 'unstal'], ['bantu', 'banget', 'buat', 'preview', 'dulu', 'belum', 'beli', 'buku'], ['aplikasi', 'bagus', 'banget', 'berkah', 'semua'], ['love'], ['mudah'], ['jadi', 'kurang', 'rasa', 'konsumtif', 'toko', 'buku', 'beli', 'buku', 'jadi', 'biasa', 'timbang', 'matang', 'mungkin', 'lihat', 'beberapa', 'referensi', 'thaks'], ['good', 'ulas'], ['buat', 'ulas', 'buku', 'recommended', 'banget'], ['bagus', 'bagaimana', 'cara', 'buka', 'buku'], ['suka'], ['seperti', 'begini', 'jadi', 'beli', 'buku', 'incer', 'memang', 'benar', 'recommended', 'sekarang', 'kalau', 'toko', 'buku', 'tinggal', 'ambil', 'buku', 'terus', 'bayar', 'lebih', 'efektif', 'efisien'], ['good'], ['good'], ['mantull', 'lah', 'salahh', 'instal'], [''], ['guna', 'sekali'], ['anjir', 'akak', 'sampai', 'bulan', 'aplikasi', 'kurleb', 'kayak', 'imdb', 'kalau', 'suka', 'tonton', 'film', 'isi', 'sinopsis', 'blurb', 'rate', 'reviews', 'rekomendasi', 'serba', 'serbi', 'bukan', 'sedia', 'film', 'kalau', 'kasus', 'sini', 'sedia', 'soft', 'file', 'buku', 'awkwkwkwkwk'], ['great'], ['sangat', 'helpful', 'find', 'information', 'books', 'that', 'curious', 'want'], ['suka', 'tantang', 'baca', 'mudah', 'tahu', 'nilai', 'buku', 'beli', 'terimakasih', 'goodreads'], ['ampun', 'sini', 'banyak', 'ngegas', 'padahal', 'khusus', 'buat', 'beri', 'ulas', 'lihat', 'ulas', 'buku', 'alias', 'nilai', 'kena', 'buah', 'buku', 'buat', 'baca', 'buku'], ['bagaimana', 'akak', 'banyak', 'tahu', 'kalau', 'cuma', 'aplikasi', 'ulas', 'buku', 'novel', 'kurang', 'lebih', 'lihat', 'orang', 'ingat', 'diri', 'dulu', 'sama', 'kalau', 'baca', 'buku', 'gratis', 'ipusnas'], ['bagus', 'aplikasi', 'bagus', 'buat', 'baca', 'maraton', 'jadi', 'lebih', 'konsisten', 'baca', 'buku', 'jadi', 'lebih', 'sedikit', 'suka', 'aplikasi'], ['coba', 'iseng', 'kasih', 'bintang'], ['rekomendasi'], ['sangat', 'bantu', 'cari', 'referensi', 'buku', 'bagus'], ['bantu', 'bisamembantu'], ['aplikasi', 'buku', 'ulas', 'baik'], ['suka'], ['good'], ['good'], ['good'], ['good'], ['good'], [], ['guna', 'benar', 'dipakek', 'cari', 'buku', 'buku', 'bagus', 'erti', 'aplikasi', 'memang', 'bukan', 'baca', 'gratis', 'lebih', 'bantu', 'cari', 'buku', 'sesuai', 'selera'], ['moga', 'guna', 'beri', 'tambah', 'wawsan'], ['aplikasi', 'guna', 'orang', 'orang', 'memang', 'suka', 'baca', 'buku', 'cari', 'rekomendasi', 'buku', 'bagus', 'aplikasi', 'sangat', 'bantu', 'fitur', 'want', 'baca', 'buat', 'mudah', 'ingat', 'buku', 'baca', 'depan', 'sini', 'catat', 'progress', 'baca', 'orang', 'tahu', 'aplikasi', 'hukan', 'baca', 'buku', 'download', 'buku', 'gratis', 'aplikasi', 'isi', 'ulas', 'buku', 'rekomendasi', 'buku'], ['bagus', 'buat', 'cari', 'buku', 'baik', 'jual', 'rekomendasi'], ['manis'], ['baik', 'ever', 'indonesia', 'budaya', 'baca', 'bantu', 'apps', 'biar', 'kalian', 'ulas', 'buku', 'kalian', 'beli'], ['netizen', 'indonesia', 'semua', 'bukan', 'baca', 'deskripsi', 'dulu', 'sudah', 'aplikasi', 'buat', 'ulas', 'buku', 'bukan', 'buat', 'baca', 'download', 'ebook'], ['terimakasih', 'goodreads'], ['manfaat', 'sekali', 'lihat', 'ulas', 'rekomendasi', 'buku', 'temen', 'misal', 'bingung', 'beli', 'buku', 'toko', 'buku', 'terimakasih', 'godreads'], ['beli', 'buku', 'cari', 'reviewnya', 'goodreads', 'dulu', 'bagus', 'ulas', 'buku', 'sini'], ['hari', 'begini', 'goodreads'], ['guddddddddddd'], ['orang', 'orang', 'tahu', 'aplikasi', 'bukan', 'membac', 'memcari', 'buku', 'mengetahua', 'komentar', 'orang', 'buku', 'cari'], ['sangat', 'manis'], [], ['this', 'sangat', 'helpfull', 'terimakasih'], ['aplikasi', 'bagus', 'begini', 'tahu', 'bagaimana', 'novel', 'putus', 'bel'], ['cakep'], ['manis', 'indonesian', 'terimakasih'], ['suka', 'aplikasi', 'tanya', 'opsi', 'ubah', 'bahasa', 'bahasa', 'inggris', 'bahasa', 'indonesia', 'kalau', 'kasih', 'memang', 'sedikit', 'bahasa', 'inggris', 'terima', 'kasih'], ['great', 'please', 'pakai', 'more', 'great', 'smooth', 'better', 'experience'], ['belum', 'memberitahu', 'aplikasi', 'ulas', 'ulas', 'suatu', 'buku', 'kalau', 'memang', 'niat', 'baca', 'buku', 'secaea', 'gratis', 'lewat', 'aplikasi', 'coba', 'aplikasi', 'legal', 'perintah', 'ijak', 'atau', 'ipusnas', 'terima', 'kasih'], ['heran', 'sekaligus', 'malu', 'sama', 'orang', 'indonesia', 'aplikasi', 'keren', 'begini', 'bilang', 'buruk', 'sama', 'keluar', 'kata', 'kata', 'kebun', 'binatang', 'padahal', 'deskripsi', 'sudah', 'tulis', 'jelas', 'buat', 'ulas', 'bukan', 'buat', 'baca', 'gratis', 'kalau', 'baca', 'gratis', 'wattpad', 'sana', 'budaya', 'baca', 'goodreads', 'this', 'good', 'terimakasih'], ['seru', 'buat', 'cari', 'referensi', 'buku', 'cuma', 'orang', 'bego', 'kali', 'ngira', 'buat', 'baca', 'buku', 'online', 'terus', 'dislike', 'hmmmm'], ['good', 'apps'], ['hadeh', 'kalau', 'baca', 'buku', 'gratis', 'pustaka', 'sono', 'heran', 'beri', 'rating', 'jelek', 'alesannya', 'baca', 'buku', 'memang', 'goodreads', 'bukan', 'tempat', 'buat', 'baca', 'ebook', 'gratis'], ['arsitekture'], ['dear', 'kamu', 'sering', 'baca', 'buku'], ['bagus', 'perluck', 'pustaka', 'buat', 'jurnal', 'buku', 'dengan', 'jadi', 'gampil', 'gampil', 'gampiiiiiiil'], ['keren', 'banget'], ['baik'], ['goodreads', 'suka', 'tampil', 'baru', 'aplikasi', 'sekarang', 'buka', 'tempat', 'kalau', 'dulu', 'buka', 'pokok', 'mantap', 'cuma', 'fitur', 'otomatis', 'otomatis', 'share', 'akun', 'facebook', 'apabila', 'mulai', 'baca', 'buku', 'progres', 'baca', 'meberikan', 'rating'], ['mantap', 'tampil', 'kurang', 'paham', 'bagaimana', 'bayar'], ['baca', 'bagi', 'ulas', 'sini', 'beri', 'bukti', 'orang', 'indonesia', 'memang', 'kurang', 'literasi', 'bahkan', 'aplikasi', 'jelas', 'ulas', 'malah', 'kata', 'baca', 'buku', 'gratis', 'halo', 'dear', 'pakai', 'aplikasi', 'baca', 'dulu', 'suka', 'aplikasi', 'utama', 'fitur', 'baca', 'challenge', 'fitur', 'sebut', 'buat', 'jadi', 'makin', 'semangat', 'baca', 'fitur', 'bookshelf', 'jadi', 'buat', 'buku', 'pribadi', 'sini', 'keren', 'depan', 'baik', 'tampil', 'mobile', 'lebih', 'friendly'], ['bagus', 'buat', 'waktu', 'luang'], ['lumayan', 'lihat', 'bagus'], ['enggaktau', 'keren'], ['keren', 'jadi', 'tahu', 'mana', 'buku', 'bagus', 'jelek'], ['dear', 'sayang', 'sayang', 'bilang', 'kasih', 'rate', 'jelek', 'baca', 'dulu', 'aplikasi', 'jangan', 'malas', 'baca', 'cinta', 'goodreads', 'aplikasi', 'website', 'ulas', 'buku', 'novel', 'atau', 'baru', 'dipublish', 'jadi', 'referensi', 'beli', 'baca', 'bukan', 'aplikasi', 'baca', 'gratis', 'tpad'], ['baik'], ['buat', 'kalian', 'bilang', 'aplikasi', 'jelek', 'helow', 'buat', 'ulas', 'buku', 'bukan', 'baca', 'buku', 'capslock', 'sama', 'marah', 'terimakasih'], ['buat', 'bilang', 'aplikasi', 'jelek', 'paham', 'dulu', 'aplikasi', 'apa', 'instal', 'aplikasi', 'beri', 'lihat', 'ulas', 'bukan', 'aplikasi', 'baca', 'novel', 'gratis'], ['orang', 'tolol', 'pakai', 'mudah', 'goodreads', 'good', 'apps'], ['terlalu', 'banyak', 'orang', 'goblok', 'komentar', 'bawah', 'khas', 'konsumen', 'indonesia', 'pinginnya', 'gratis', 'aplikasi', 'buat', 'orang', 'baca', 'buku', 'dunia', 'nyata', 'baru', 'beri', 'ulas', 'aplikasi', 'hasil', 'bantu', 'orang', 'lihat', 'rating', 'komentar', 'siapa', 'tahu', 'buku', 'ratingnya', 'bagus', 'nyata', 'memang', 'buku', 'bagus', 'modar', 'sana', 'otak', 'gratis', 'cela', 'komentar', 'pedas', 'kritik', 'asal', 'mangap', 'baca', 'jelas', 'aplikasi', 'apa', 'sekolah', 'buat', 'baca', 'bokep', 'punya', 'internet', 'otak', 'digunain', 'kenapa', 'tolol'], ['bagaimana', 'cara', 'baca'], ['buat', 'sesal', 'download', 'bilang', 'jelek', 'dear', 'ulas', 'buku', 'bantu', 'kalian', 'kalau', 'beli', 'buku', 'just', 'lihat', 'buku', 'baru', 'terbit', 'bukan', 'baca', 'buku', 'gratis', 'kalau', 'download', 'mohon', 'lihat', 'dulu', 'rinciannya', 'jangan', 'asal', 'cela'], ['manis'], ['sering', 'susah', 'menggunakanvaplikasi'], ['didownload'], ['love'], ['excelent', 'market', 'affiliation', 'with', 'buku', 'store', 'online', 'shop'], ['much'], ['bagus'], ['sangat', 'manfaat'], ['that', 'good', 'application', 'terimakasih'], [''], ['keren'], [], ['aplikasi', 'sangat', 'bagus'], ['good'], ['suka', 'sekali', 'sangat', 'bantu', 'utama', 'ajar', 'cinta', 'buku', 'baca', 'suka', 'kasih', 'tugas', 'lapor', 'literasi', 'semester', 'abreg', 'asa', 'temu', 'sumber', 'tengah', 'gurun', 'tandus', 'tidak', 'ribet', 'pusing', 'cari', 'link', 'download', 'buku', 'pinjam', 'pustaka', 'beli', 'pokok', 'terimakasih', 'suka', 'kamu', 'maksud', 'aplikasi', 'bukan', 'kamu', 'bawaperasaan', 'paansii'], ['thaks', 'this', 'bantu', 'me'], ['goood'], ['amal', 'lewat', 'ilmu'], ['moga', 'manfaat'], ['maybe', 'need', 'more', 'support', 'indonesian', 'language', 'books'], ['good', 'good', 'good'], [''], ['good', 'apps'], ['bagus'], ['suka'], ['sangat', 'bantu', 'cinta', 'buku'], ['alhamdulillah'], ['giod'], ['moga', 'minat', 'makin', 'banyak'], ['terimakasih', 'this', 'moga', 'lebih', 'cepat', 'update', 'about', 'books'], ['bagus', 'lihat', 'ulas'], ['lumayan', 'buat', 'riview'], [], ['seperti'], ['tempat', 'ulas', 'buku', 'lihat', 'nilai', 'orang', 'suatu', 'buku', 'bukan', 'tempat', 'baca', 'buku', 'bahkan', 'tulis'], ['rasa', 'bagus', 'sekali', 'aplikasi', 'mudah', 'memba', 'novel', 'jadi', 'perlu', 'repot', 'keluar', 'rumah', 'beli', 'buku', 'karena', 'sini', 'dapat', 'semua'], ['siiip']]\n"
          ]
        }
      ]
    },
    {
      "cell_type": "code",
      "source": [
        "import json\n",
        "jsons= json.dumps(kata_dasar)\n",
        "jsonFile = open(\"data_preprocessing.json\", \"w\")\n",
        "jsonFile.write(jsons)\n",
        "jsonFile.close()\n",
        "\n",
        "fileObject = open(\"data_preprocessing.json\", \"r\")\n",
        "jsonContent = fileObject.read()\n",
        "ds_preprocess = json.loads(jsonContent)\n",
        "ds_preprocess"
      ],
      "metadata": {
        "id": "-xCgE4-iga3E"
      },
      "execution_count": null,
      "outputs": []
    },
    {
      "cell_type": "code",
      "source": [
        "vect = TfidfVectorizer()\n",
        "reviews2 = [\"\".join(r) for r in ds_preprocess]\n",
        "vect_tfidf = vect.fit_transform(reviews2)\n",
        "vect_tfidf2 = vect_tfidf.toarray()\n",
        "vect_tfidf2.shape"
      ],
      "metadata": {
        "colab": {
          "base_uri": "https://localhost:8080/"
        },
        "id": "kRsNnQ6Fi7Kd",
        "outputId": "5f4a51b3-95df-4c39-d137-1b2638da39d7"
      },
      "execution_count": 20,
      "outputs": [
        {
          "output_type": "execute_result",
          "data": {
            "text/plain": [
              "(396, 336)"
            ]
          },
          "metadata": {},
          "execution_count": 20
        }
      ]
    },
    {
      "cell_type": "code",
      "source": [
        "labels = ds['score']"
      ],
      "metadata": {
        "id": "_WbBkZFhi-W6"
      },
      "execution_count": 21,
      "outputs": []
    },
    {
      "cell_type": "code",
      "source": [
        "x_train, x_test, y_train, y_test = train_test_split(reviews2, labels, test_size=0.2, random_state=42)"
      ],
      "metadata": {
        "id": "qywoFb6mjHja"
      },
      "execution_count": 22,
      "outputs": []
    },
    {
      "cell_type": "code",
      "source": [
        "from sklearn.preprocessing import LabelEncoder\n",
        "\n",
        "label_encoder = LabelEncoder()\n",
        "encoded_labels = label_encoder.fit_transform(labels)"
      ],
      "metadata": {
        "id": "mOfqDMzojOJE"
      },
      "execution_count": 23,
      "outputs": []
    },
    {
      "cell_type": "code",
      "source": [
        "from sklearn.svm import LinearSVC\n",
        "\n",
        "svm_model = LinearSVC()\n",
        "svm_model.fit(vect_tfidf2, ds['score'])"
      ],
      "metadata": {
        "colab": {
          "base_uri": "https://localhost:8080/",
          "height": 74
        },
        "id": "bEYgSCa_jRMx",
        "outputId": "2e43d6cf-e272-4348-e112-a7d0962807e5"
      },
      "execution_count": 24,
      "outputs": [
        {
          "output_type": "execute_result",
          "data": {
            "text/plain": [
              "LinearSVC()"
            ],
            "text/html": [
              "<style>#sk-container-id-1 {color: black;background-color: white;}#sk-container-id-1 pre{padding: 0;}#sk-container-id-1 div.sk-toggleable {background-color: white;}#sk-container-id-1 label.sk-toggleable__label {cursor: pointer;display: block;width: 100%;margin-bottom: 0;padding: 0.3em;box-sizing: border-box;text-align: center;}#sk-container-id-1 label.sk-toggleable__label-arrow:before {content: \"▸\";float: left;margin-right: 0.25em;color: #696969;}#sk-container-id-1 label.sk-toggleable__label-arrow:hover:before {color: black;}#sk-container-id-1 div.sk-estimator:hover label.sk-toggleable__label-arrow:before {color: black;}#sk-container-id-1 div.sk-toggleable__content {max-height: 0;max-width: 0;overflow: hidden;text-align: left;background-color: #f0f8ff;}#sk-container-id-1 div.sk-toggleable__content pre {margin: 0.2em;color: black;border-radius: 0.25em;background-color: #f0f8ff;}#sk-container-id-1 input.sk-toggleable__control:checked~div.sk-toggleable__content {max-height: 200px;max-width: 100%;overflow: auto;}#sk-container-id-1 input.sk-toggleable__control:checked~label.sk-toggleable__label-arrow:before {content: \"▾\";}#sk-container-id-1 div.sk-estimator input.sk-toggleable__control:checked~label.sk-toggleable__label {background-color: #d4ebff;}#sk-container-id-1 div.sk-label input.sk-toggleable__control:checked~label.sk-toggleable__label {background-color: #d4ebff;}#sk-container-id-1 input.sk-hidden--visually {border: 0;clip: rect(1px 1px 1px 1px);clip: rect(1px, 1px, 1px, 1px);height: 1px;margin: -1px;overflow: hidden;padding: 0;position: absolute;width: 1px;}#sk-container-id-1 div.sk-estimator {font-family: monospace;background-color: #f0f8ff;border: 1px dotted black;border-radius: 0.25em;box-sizing: border-box;margin-bottom: 0.5em;}#sk-container-id-1 div.sk-estimator:hover {background-color: #d4ebff;}#sk-container-id-1 div.sk-parallel-item::after {content: \"\";width: 100%;border-bottom: 1px solid gray;flex-grow: 1;}#sk-container-id-1 div.sk-label:hover label.sk-toggleable__label {background-color: #d4ebff;}#sk-container-id-1 div.sk-serial::before {content: \"\";position: absolute;border-left: 1px solid gray;box-sizing: border-box;top: 0;bottom: 0;left: 50%;z-index: 0;}#sk-container-id-1 div.sk-serial {display: flex;flex-direction: column;align-items: center;background-color: white;padding-right: 0.2em;padding-left: 0.2em;position: relative;}#sk-container-id-1 div.sk-item {position: relative;z-index: 1;}#sk-container-id-1 div.sk-parallel {display: flex;align-items: stretch;justify-content: center;background-color: white;position: relative;}#sk-container-id-1 div.sk-item::before, #sk-container-id-1 div.sk-parallel-item::before {content: \"\";position: absolute;border-left: 1px solid gray;box-sizing: border-box;top: 0;bottom: 0;left: 50%;z-index: -1;}#sk-container-id-1 div.sk-parallel-item {display: flex;flex-direction: column;z-index: 1;position: relative;background-color: white;}#sk-container-id-1 div.sk-parallel-item:first-child::after {align-self: flex-end;width: 50%;}#sk-container-id-1 div.sk-parallel-item:last-child::after {align-self: flex-start;width: 50%;}#sk-container-id-1 div.sk-parallel-item:only-child::after {width: 0;}#sk-container-id-1 div.sk-dashed-wrapped {border: 1px dashed gray;margin: 0 0.4em 0.5em 0.4em;box-sizing: border-box;padding-bottom: 0.4em;background-color: white;}#sk-container-id-1 div.sk-label label {font-family: monospace;font-weight: bold;display: inline-block;line-height: 1.2em;}#sk-container-id-1 div.sk-label-container {text-align: center;}#sk-container-id-1 div.sk-container {/* jupyter's `normalize.less` sets `[hidden] { display: none; }` but bootstrap.min.css set `[hidden] { display: none !important; }` so we also need the `!important` here to be able to override the default hidden behavior on the sphinx rendered scikit-learn.org. See: https://github.com/scikit-learn/scikit-learn/issues/21755 */display: inline-block !important;position: relative;}#sk-container-id-1 div.sk-text-repr-fallback {display: none;}</style><div id=\"sk-container-id-1\" class=\"sk-top-container\"><div class=\"sk-text-repr-fallback\"><pre>LinearSVC()</pre><b>In a Jupyter environment, please rerun this cell to show the HTML representation or trust the notebook. <br />On GitHub, the HTML representation is unable to render, please try loading this page with nbviewer.org.</b></div><div class=\"sk-container\" hidden><div class=\"sk-item\"><div class=\"sk-estimator sk-toggleable\"><input class=\"sk-toggleable__control sk-hidden--visually\" id=\"sk-estimator-id-1\" type=\"checkbox\" checked><label for=\"sk-estimator-id-1\" class=\"sk-toggleable__label sk-toggleable__label-arrow\">LinearSVC</label><div class=\"sk-toggleable__content\"><pre>LinearSVC()</pre></div></div></div></div></div>"
            ]
          },
          "metadata": {},
          "execution_count": 24
        }
      ]
    },
    {
      "cell_type": "code",
      "source": [
        "new_text = [\"Aplikasi Bagus, Keren\"]\n",
        "new_tfidf = vect.transform(new_text).toarray()\n",
        "prediction = svm_model.predict(new_tfidf)\n",
        "prediction"
      ],
      "metadata": {
        "colab": {
          "base_uri": "https://localhost:8080/"
        },
        "id": "zkQBpzLUjXrS",
        "outputId": "8b7cfc22-c9da-485d-9f9f-bbdc1e521ab5"
      },
      "execution_count": 25,
      "outputs": [
        {
          "output_type": "execute_result",
          "data": {
            "text/plain": [
              "array([5])"
            ]
          },
          "metadata": {},
          "execution_count": 25
        }
      ]
    },
    {
      "cell_type": "code",
      "source": [
        "import pickle\n",
        "\n",
        "drive_path = '/content/drive/MyDrive/DIV TEKNIK INFORMATIKA/Pemrograman Sistem Cerdas - Bu Intan/Projek Sentiment Analysis'\n",
        "\n",
        "# Simpan model SVM ke dalam file .pkl menggunakan pickle\n",
        "model_filename = 'sentimentSVM.pkl'\n",
        "with open(drive_path + model_filename, 'wb') as model_file:\n",
        "    pickle.dump(svm_model, model_file)\n",
        "\n",
        "# Simpan objek LabelEncoder ke dalam file .pkl menggunakan pickle\n",
        "#label_encoder_filename = 'label_encoder.pkl'\n",
        "#with open(drive_path + label_encoder_filename, 'wb') as label_encoder_file:\n",
        "#    pickle.dump(label_encoder, label_encoder_file)\n",
        "\n",
        "print(f\"Model dan LabelEncoder telah disimpan sebagai {model_filename}.\")"
      ],
      "metadata": {
        "colab": {
          "base_uri": "https://localhost:8080/"
        },
        "id": "XNz6HK_UutEV",
        "outputId": "79c70b6e-9940-4c5c-a580-a02c18489754"
      },
      "execution_count": 27,
      "outputs": [
        {
          "output_type": "stream",
          "name": "stdout",
          "text": [
            "Model dan LabelEncoder telah disimpan sebagai sentimentSVM.pkl.\n"
          ]
        }
      ]
    }
  ]
}